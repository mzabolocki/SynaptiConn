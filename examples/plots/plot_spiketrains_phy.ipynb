{
 "cells": [
  {
   "cell_type": "markdown",
   "metadata": {},
   "source": [
    "# Monosynaptic pair analysis\n",
    "-------\n",
    "\n",
    "Example notebook demonstrating simple functions in SynapticConn for plotting spike trains. "
   ]
  },
  {
   "cell_type": "code",
   "execution_count": 1,
   "metadata": {},
   "outputs": [
    {
     "name": "stdout",
     "output_type": "stream",
     "text": [
      "/Users/michael.zabolocki/Desktop/code/SynaptiConn\n"
     ]
    }
   ],
   "source": [
    "import os\n",
    "import pathlib\n",
    "\n",
    "import numpy as np\n",
    "import pandas as pd\n",
    "\n",
    "import matplotlib.pyplot as plt\n",
    "\n",
    "os.chdir('../..')\n",
    "print(os.getcwd())\n",
    "\n",
    "from synapticonn.plots import plot_acg, plot_ccg\n",
    "from synapticonn.postprocessing import compute_crosscorrelogram, compute_autocorrelogram\n",
    "from synapticonn.monosynaptic_connections.synaptic_strength import calculate_synaptic_strength\n",
    "\n",
    "import synapticonn as synapticonn"
   ]
  },
  {
   "cell_type": "markdown",
   "metadata": {},
   "source": [
    "Load data. "
   ]
  },
  {
   "cell_type": "code",
   "execution_count": 2,
   "metadata": {},
   "outputs": [],
   "source": [
    "data_fpath = pathlib.Path('tests', 'BD0187_spikesorting_array.pkl')\n",
    "\n",
    "# open pickle\n",
    "all_units = np.load(data_fpath, allow_pickle=True)\n",
    "all_units = all_units['spike_time_set']"
   ]
  },
  {
   "cell_type": "markdown",
   "metadata": {},
   "source": [
    "Set parameters."
   ]
  },
  {
   "cell_type": "code",
   "execution_count": 3,
   "metadata": {},
   "outputs": [],
   "source": [
    "srate = 30_000\n",
    "bin_size_ms = 0.5\n",
    "max_lag_ms = 25"
   ]
  },
  {
   "cell_type": "markdown",
   "metadata": {},
   "source": [
    "Initialize the object."
   ]
  },
  {
   "cell_type": "code",
   "execution_count": 4,
   "metadata": {},
   "outputs": [
    {
     "name": "stdout",
     "output_type": "stream",
     "text": [
      "Warning: Spike times for unit(s) 5, 1, 0, 16, 17, 18, 15, 4, 3 were converted to milliseconds.\n"
     ]
    }
   ],
   "source": [
    "snc = synapticonn.SynaptiConn(all_units, bin_size_ms=1, max_lag_ms=100, srate=30_000, recording_length_ms=600*1000)"
   ]
  },
  {
   "cell_type": "markdown",
   "metadata": {},
   "source": [
    "Check the loaded spike units."
   ]
  },
  {
   "cell_type": "code",
   "execution_count": 5,
   "metadata": {},
   "outputs": [
    {
     "data": {
      "text/html": [
       "<div>\n",
       "<style scoped>\n",
       "    .dataframe tbody tr th:only-of-type {\n",
       "        vertical-align: middle;\n",
       "    }\n",
       "\n",
       "    .dataframe tbody tr th {\n",
       "        vertical-align: top;\n",
       "    }\n",
       "\n",
       "    .dataframe thead th {\n",
       "        text-align: right;\n",
       "    }\n",
       "</style>\n",
       "<table border=\"1\" class=\"dataframe\">\n",
       "  <thead>\n",
       "    <tr style=\"text-align: right;\">\n",
       "      <th></th>\n",
       "      <th>unit_id</th>\n",
       "      <th>n_spikes</th>\n",
       "    </tr>\n",
       "  </thead>\n",
       "  <tbody>\n",
       "    <tr>\n",
       "      <th>0</th>\n",
       "      <td>5</td>\n",
       "      <td>302</td>\n",
       "    </tr>\n",
       "    <tr>\n",
       "      <th>1</th>\n",
       "      <td>1</td>\n",
       "      <td>1152</td>\n",
       "    </tr>\n",
       "    <tr>\n",
       "      <th>2</th>\n",
       "      <td>0</td>\n",
       "      <td>918</td>\n",
       "    </tr>\n",
       "    <tr>\n",
       "      <th>3</th>\n",
       "      <td>16</td>\n",
       "      <td>524</td>\n",
       "    </tr>\n",
       "    <tr>\n",
       "      <th>4</th>\n",
       "      <td>17</td>\n",
       "      <td>315</td>\n",
       "    </tr>\n",
       "    <tr>\n",
       "      <th>5</th>\n",
       "      <td>18</td>\n",
       "      <td>195</td>\n",
       "    </tr>\n",
       "    <tr>\n",
       "      <th>6</th>\n",
       "      <td>15</td>\n",
       "      <td>192</td>\n",
       "    </tr>\n",
       "    <tr>\n",
       "      <th>7</th>\n",
       "      <td>4</td>\n",
       "      <td>299</td>\n",
       "    </tr>\n",
       "    <tr>\n",
       "      <th>8</th>\n",
       "      <td>3</td>\n",
       "      <td>277</td>\n",
       "    </tr>\n",
       "  </tbody>\n",
       "</table>\n",
       "</div>"
      ],
      "text/plain": [
       "   unit_id  n_spikes\n",
       "0        5       302\n",
       "1        1      1152\n",
       "2        0       918\n",
       "3       16       524\n",
       "4       17       315\n",
       "5       18       195\n",
       "6       15       192\n",
       "7        4       299\n",
       "8        3       277"
      ]
     },
     "execution_count": 5,
     "metadata": {},
     "output_type": "execute_result"
    }
   ],
   "source": [
    "spk_unit_report = snc.report_spike_units()\n",
    "pd.DataFrame(spk_unit_report)"
   ]
  },
  {
   "cell_type": "markdown",
   "metadata": {},
   "source": [
    "## Spike isolation quality metrics\n",
    "----\n",
    "\n",
    "Prior to proceeding, it is important to cross-check the quality of the spike sorted neurons. \n",
    "\n",
    "Metrics related to the spike quality can be found below. Notably, the autocorrelograms for each unit should also be cross-referenced prior to continuing. Low contamination (or no contamination) in the refractory periods are important for correct assesments of spike-units and their monosynaptic connections.\n",
    "\n",
    "**NOTE** here, more simple and core metric assessments are performed. In the future, these will be extended. For further quality metrics, please see the following [code](https://github.com/SpikeInterface/spikeinterface/blob/main/src/spikeinterface/qualitymetrics/misc_metrics.py#L1183). Further, Allen Brain have core documentation which can be found [here](https://allensdk.readthedocs.io/en/latest/_static/examples/nb/ecephys_quality_metrics.html#ISI-violations) explaining some key metrics to assess spike unit quality."
   ]
  },
  {
   "cell_type": "code",
   "execution_count": 6,
   "metadata": {},
   "outputs": [
    {
     "data": {
      "text/html": [
       "<div>\n",
       "<style scoped>\n",
       "    .dataframe tbody tr th:only-of-type {\n",
       "        vertical-align: middle;\n",
       "    }\n",
       "\n",
       "    .dataframe tbody tr th {\n",
       "        vertical-align: top;\n",
       "    }\n",
       "\n",
       "    .dataframe thead th {\n",
       "        text-align: right;\n",
       "    }\n",
       "</style>\n",
       "<table border=\"1\" class=\"dataframe\">\n",
       "  <thead>\n",
       "    <tr style=\"text-align: right;\">\n",
       "      <th></th>\n",
       "      <th>isi_violations_ratio</th>\n",
       "      <th>isi_violations_rate</th>\n",
       "      <th>isi_violations_count</th>\n",
       "      <th>isi_violations_of_total_spikes</th>\n",
       "      <th>presence_ratio</th>\n",
       "      <th>recording_length_sec</th>\n",
       "      <th>n_spikes</th>\n",
       "      <th>firing_rate_hz</th>\n",
       "    </tr>\n",
       "  </thead>\n",
       "  <tbody>\n",
       "    <tr>\n",
       "      <th>5</th>\n",
       "      <td>0.000000</td>\n",
       "      <td>0.000000</td>\n",
       "      <td>0.0</td>\n",
       "      <td>0.000000</td>\n",
       "      <td>0.909091</td>\n",
       "      <td>600.0</td>\n",
       "      <td>302.0</td>\n",
       "      <td>0.503333</td>\n",
       "    </tr>\n",
       "    <tr>\n",
       "      <th>1</th>\n",
       "      <td>0.753520</td>\n",
       "      <td>0.006667</td>\n",
       "      <td>4.0</td>\n",
       "      <td>0.003472</td>\n",
       "      <td>0.909091</td>\n",
       "      <td>600.0</td>\n",
       "      <td>1152.0</td>\n",
       "      <td>1.920000</td>\n",
       "    </tr>\n",
       "    <tr>\n",
       "      <th>0</th>\n",
       "      <td>1.186628</td>\n",
       "      <td>0.006667</td>\n",
       "      <td>4.0</td>\n",
       "      <td>0.004357</td>\n",
       "      <td>0.909091</td>\n",
       "      <td>600.0</td>\n",
       "      <td>918.0</td>\n",
       "      <td>1.530000</td>\n",
       "    </tr>\n",
       "    <tr>\n",
       "      <th>16</th>\n",
       "      <td>0.000000</td>\n",
       "      <td>0.000000</td>\n",
       "      <td>0.0</td>\n",
       "      <td>0.000000</td>\n",
       "      <td>0.909091</td>\n",
       "      <td>600.0</td>\n",
       "      <td>524.0</td>\n",
       "      <td>0.873333</td>\n",
       "    </tr>\n",
       "    <tr>\n",
       "      <th>17</th>\n",
       "      <td>0.000000</td>\n",
       "      <td>0.000000</td>\n",
       "      <td>0.0</td>\n",
       "      <td>0.000000</td>\n",
       "      <td>0.909091</td>\n",
       "      <td>600.0</td>\n",
       "      <td>315.0</td>\n",
       "      <td>0.525000</td>\n",
       "    </tr>\n",
       "    <tr>\n",
       "      <th>18</th>\n",
       "      <td>0.000000</td>\n",
       "      <td>0.000000</td>\n",
       "      <td>0.0</td>\n",
       "      <td>0.000000</td>\n",
       "      <td>0.909091</td>\n",
       "      <td>600.0</td>\n",
       "      <td>195.0</td>\n",
       "      <td>0.325000</td>\n",
       "    </tr>\n",
       "    <tr>\n",
       "      <th>15</th>\n",
       "      <td>0.000000</td>\n",
       "      <td>0.000000</td>\n",
       "      <td>0.0</td>\n",
       "      <td>0.000000</td>\n",
       "      <td>0.909091</td>\n",
       "      <td>600.0</td>\n",
       "      <td>192.0</td>\n",
       "      <td>0.320000</td>\n",
       "    </tr>\n",
       "    <tr>\n",
       "      <th>4</th>\n",
       "      <td>0.000000</td>\n",
       "      <td>0.000000</td>\n",
       "      <td>0.0</td>\n",
       "      <td>0.000000</td>\n",
       "      <td>0.909091</td>\n",
       "      <td>600.0</td>\n",
       "      <td>299.0</td>\n",
       "      <td>0.498333</td>\n",
       "    </tr>\n",
       "    <tr>\n",
       "      <th>3</th>\n",
       "      <td>0.000000</td>\n",
       "      <td>0.000000</td>\n",
       "      <td>0.0</td>\n",
       "      <td>0.000000</td>\n",
       "      <td>0.909091</td>\n",
       "      <td>600.0</td>\n",
       "      <td>277.0</td>\n",
       "      <td>0.461667</td>\n",
       "    </tr>\n",
       "  </tbody>\n",
       "</table>\n",
       "</div>"
      ],
      "text/plain": [
       "    isi_violations_ratio  isi_violations_rate  isi_violations_count  \\\n",
       "5               0.000000             0.000000                   0.0   \n",
       "1               0.753520             0.006667                   4.0   \n",
       "0               1.186628             0.006667                   4.0   \n",
       "16              0.000000             0.000000                   0.0   \n",
       "17              0.000000             0.000000                   0.0   \n",
       "18              0.000000             0.000000                   0.0   \n",
       "15              0.000000             0.000000                   0.0   \n",
       "4               0.000000             0.000000                   0.0   \n",
       "3               0.000000             0.000000                   0.0   \n",
       "\n",
       "    isi_violations_of_total_spikes  presence_ratio  recording_length_sec  \\\n",
       "5                         0.000000        0.909091                 600.0   \n",
       "1                         0.003472        0.909091                 600.0   \n",
       "0                         0.004357        0.909091                 600.0   \n",
       "16                        0.000000        0.909091                 600.0   \n",
       "17                        0.000000        0.909091                 600.0   \n",
       "18                        0.000000        0.909091                 600.0   \n",
       "15                        0.000000        0.909091                 600.0   \n",
       "4                         0.000000        0.909091                 600.0   \n",
       "3                         0.000000        0.909091                 600.0   \n",
       "\n",
       "    n_spikes  firing_rate_hz  \n",
       "5      302.0        0.503333  \n",
       "1     1152.0        1.920000  \n",
       "0      918.0        1.530000  \n",
       "16     524.0        0.873333  \n",
       "17     315.0        0.525000  \n",
       "18     195.0        0.325000  \n",
       "15     192.0        0.320000  \n",
       "4      299.0        0.498333  \n",
       "3      277.0        0.461667  "
      ]
     },
     "execution_count": 6,
     "metadata": {},
     "output_type": "execute_result"
    }
   ],
   "source": [
    "params = {'isi_threshold_ms': 1.5,\n",
    "          'min_isi_ms': 0.3,  # note :: isi min should be based on the miniimum possible refractory period (e.g. spikes removed would constitute this)\n",
    "          'presence_ratio_bin_duration_ms': 60*1000,\n",
    "          'presence_ratio_mean_fr_ratio_thresh': 0.0}\n",
    "\n",
    "qc = snc.spike_unit_quality(**params)\n",
    "qc"
   ]
  },
  {
   "cell_type": "markdown",
   "metadata": {},
   "source": [
    "Filter the spike times for 'good units' based on the quality control metrics.\n",
    "\n",
    "These will then be used for all further processing. The spike times will be updated accordingly.\n",
    "\n",
    "A log of the excluded units can be found and kept."
   ]
  },
  {
   "cell_type": "code",
   "execution_count": 7,
   "metadata": {},
   "outputs": [
    {
     "data": {
      "text/html": [
       "<div>\n",
       "<style scoped>\n",
       "    .dataframe tbody tr th:only-of-type {\n",
       "        vertical-align: middle;\n",
       "    }\n",
       "\n",
       "    .dataframe tbody tr th {\n",
       "        vertical-align: top;\n",
       "    }\n",
       "\n",
       "    .dataframe thead th {\n",
       "        text-align: right;\n",
       "    }\n",
       "</style>\n",
       "<table border=\"1\" class=\"dataframe\">\n",
       "  <thead>\n",
       "    <tr style=\"text-align: right;\">\n",
       "      <th></th>\n",
       "      <th>isi_violations_ratio</th>\n",
       "      <th>isi_violations_rate</th>\n",
       "      <th>isi_violations_count</th>\n",
       "      <th>isi_violations_of_total_spikes</th>\n",
       "      <th>presence_ratio</th>\n",
       "      <th>recording_length_sec</th>\n",
       "      <th>n_spikes</th>\n",
       "      <th>firing_rate_hz</th>\n",
       "    </tr>\n",
       "  </thead>\n",
       "  <tbody>\n",
       "    <tr>\n",
       "      <th>5</th>\n",
       "      <td>0.000000</td>\n",
       "      <td>0.000000</td>\n",
       "      <td>0.0</td>\n",
       "      <td>0.000000</td>\n",
       "      <td>0.909091</td>\n",
       "      <td>600.0</td>\n",
       "      <td>302.0</td>\n",
       "      <td>0.503333</td>\n",
       "    </tr>\n",
       "    <tr>\n",
       "      <th>1</th>\n",
       "      <td>0.753520</td>\n",
       "      <td>0.006667</td>\n",
       "      <td>4.0</td>\n",
       "      <td>0.003472</td>\n",
       "      <td>0.909091</td>\n",
       "      <td>600.0</td>\n",
       "      <td>1152.0</td>\n",
       "      <td>1.920000</td>\n",
       "    </tr>\n",
       "    <tr>\n",
       "      <th>0</th>\n",
       "      <td>1.186628</td>\n",
       "      <td>0.006667</td>\n",
       "      <td>4.0</td>\n",
       "      <td>0.004357</td>\n",
       "      <td>0.909091</td>\n",
       "      <td>600.0</td>\n",
       "      <td>918.0</td>\n",
       "      <td>1.530000</td>\n",
       "    </tr>\n",
       "    <tr>\n",
       "      <th>16</th>\n",
       "      <td>0.000000</td>\n",
       "      <td>0.000000</td>\n",
       "      <td>0.0</td>\n",
       "      <td>0.000000</td>\n",
       "      <td>0.909091</td>\n",
       "      <td>600.0</td>\n",
       "      <td>524.0</td>\n",
       "      <td>0.873333</td>\n",
       "    </tr>\n",
       "    <tr>\n",
       "      <th>17</th>\n",
       "      <td>0.000000</td>\n",
       "      <td>0.000000</td>\n",
       "      <td>0.0</td>\n",
       "      <td>0.000000</td>\n",
       "      <td>0.909091</td>\n",
       "      <td>600.0</td>\n",
       "      <td>315.0</td>\n",
       "      <td>0.525000</td>\n",
       "    </tr>\n",
       "    <tr>\n",
       "      <th>18</th>\n",
       "      <td>0.000000</td>\n",
       "      <td>0.000000</td>\n",
       "      <td>0.0</td>\n",
       "      <td>0.000000</td>\n",
       "      <td>0.909091</td>\n",
       "      <td>600.0</td>\n",
       "      <td>195.0</td>\n",
       "      <td>0.325000</td>\n",
       "    </tr>\n",
       "    <tr>\n",
       "      <th>15</th>\n",
       "      <td>0.000000</td>\n",
       "      <td>0.000000</td>\n",
       "      <td>0.0</td>\n",
       "      <td>0.000000</td>\n",
       "      <td>0.909091</td>\n",
       "      <td>600.0</td>\n",
       "      <td>192.0</td>\n",
       "      <td>0.320000</td>\n",
       "    </tr>\n",
       "    <tr>\n",
       "      <th>4</th>\n",
       "      <td>0.000000</td>\n",
       "      <td>0.000000</td>\n",
       "      <td>0.0</td>\n",
       "      <td>0.000000</td>\n",
       "      <td>0.909091</td>\n",
       "      <td>600.0</td>\n",
       "      <td>299.0</td>\n",
       "      <td>0.498333</td>\n",
       "    </tr>\n",
       "    <tr>\n",
       "      <th>3</th>\n",
       "      <td>0.000000</td>\n",
       "      <td>0.000000</td>\n",
       "      <td>0.0</td>\n",
       "      <td>0.000000</td>\n",
       "      <td>0.909091</td>\n",
       "      <td>600.0</td>\n",
       "      <td>277.0</td>\n",
       "      <td>0.461667</td>\n",
       "    </tr>\n",
       "  </tbody>\n",
       "</table>\n",
       "</div>"
      ],
      "text/plain": [
       "    isi_violations_ratio  isi_violations_rate  isi_violations_count  \\\n",
       "5               0.000000             0.000000                   0.0   \n",
       "1               0.753520             0.006667                   4.0   \n",
       "0               1.186628             0.006667                   4.0   \n",
       "16              0.000000             0.000000                   0.0   \n",
       "17              0.000000             0.000000                   0.0   \n",
       "18              0.000000             0.000000                   0.0   \n",
       "15              0.000000             0.000000                   0.0   \n",
       "4               0.000000             0.000000                   0.0   \n",
       "3               0.000000             0.000000                   0.0   \n",
       "\n",
       "    isi_violations_of_total_spikes  presence_ratio  recording_length_sec  \\\n",
       "5                         0.000000        0.909091                 600.0   \n",
       "1                         0.003472        0.909091                 600.0   \n",
       "0                         0.004357        0.909091                 600.0   \n",
       "16                        0.000000        0.909091                 600.0   \n",
       "17                        0.000000        0.909091                 600.0   \n",
       "18                        0.000000        0.909091                 600.0   \n",
       "15                        0.000000        0.909091                 600.0   \n",
       "4                         0.000000        0.909091                 600.0   \n",
       "3                         0.000000        0.909091                 600.0   \n",
       "\n",
       "    n_spikes  firing_rate_hz  \n",
       "5      302.0        0.503333  \n",
       "1     1152.0        1.920000  \n",
       "0      918.0        1.530000  \n",
       "16     524.0        0.873333  \n",
       "17     315.0        0.525000  \n",
       "18     195.0        0.325000  \n",
       "15     192.0        0.320000  \n",
       "4      299.0        0.498333  \n",
       "3      277.0        0.461667  "
      ]
     },
     "execution_count": 7,
     "metadata": {},
     "output_type": "execute_result"
    }
   ],
   "source": [
    "query = 'presence_ratio > 0.5'\n",
    "good_units = snc.filter_spike_units(qc, query, log=True)\n",
    "good_units"
   ]
  },
  {
   "cell_type": "markdown",
   "metadata": {},
   "source": [
    "Check the updates."
   ]
  },
  {
   "cell_type": "code",
   "execution_count": 8,
   "metadata": {},
   "outputs": [
    {
     "data": {
      "text/html": [
       "<div>\n",
       "<style scoped>\n",
       "    .dataframe tbody tr th:only-of-type {\n",
       "        vertical-align: middle;\n",
       "    }\n",
       "\n",
       "    .dataframe tbody tr th {\n",
       "        vertical-align: top;\n",
       "    }\n",
       "\n",
       "    .dataframe thead th {\n",
       "        text-align: right;\n",
       "    }\n",
       "</style>\n",
       "<table border=\"1\" class=\"dataframe\">\n",
       "  <thead>\n",
       "    <tr style=\"text-align: right;\">\n",
       "      <th></th>\n",
       "      <th>unit_id</th>\n",
       "      <th>n_spikes</th>\n",
       "    </tr>\n",
       "  </thead>\n",
       "  <tbody>\n",
       "    <tr>\n",
       "      <th>0</th>\n",
       "      <td>5</td>\n",
       "      <td>302</td>\n",
       "    </tr>\n",
       "    <tr>\n",
       "      <th>1</th>\n",
       "      <td>1</td>\n",
       "      <td>1152</td>\n",
       "    </tr>\n",
       "    <tr>\n",
       "      <th>2</th>\n",
       "      <td>0</td>\n",
       "      <td>918</td>\n",
       "    </tr>\n",
       "    <tr>\n",
       "      <th>3</th>\n",
       "      <td>16</td>\n",
       "      <td>524</td>\n",
       "    </tr>\n",
       "    <tr>\n",
       "      <th>4</th>\n",
       "      <td>17</td>\n",
       "      <td>315</td>\n",
       "    </tr>\n",
       "    <tr>\n",
       "      <th>5</th>\n",
       "      <td>18</td>\n",
       "      <td>195</td>\n",
       "    </tr>\n",
       "    <tr>\n",
       "      <th>6</th>\n",
       "      <td>15</td>\n",
       "      <td>192</td>\n",
       "    </tr>\n",
       "    <tr>\n",
       "      <th>7</th>\n",
       "      <td>4</td>\n",
       "      <td>299</td>\n",
       "    </tr>\n",
       "    <tr>\n",
       "      <th>8</th>\n",
       "      <td>3</td>\n",
       "      <td>277</td>\n",
       "    </tr>\n",
       "  </tbody>\n",
       "</table>\n",
       "</div>"
      ],
      "text/plain": [
       "   unit_id  n_spikes\n",
       "0        5       302\n",
       "1        1      1152\n",
       "2        0       918\n",
       "3       16       524\n",
       "4       17       315\n",
       "5       18       195\n",
       "6       15       192\n",
       "7        4       299\n",
       "8        3       277"
      ]
     },
     "execution_count": 8,
     "metadata": {},
     "output_type": "execute_result"
    }
   ],
   "source": [
    "spk_unit_report = snc.report_spike_units()\n",
    "pd.DataFrame(spk_unit_report)"
   ]
  },
  {
   "cell_type": "markdown",
   "metadata": {},
   "source": [
    "## Auto-correlograms\n",
    "---"
   ]
  },
  {
   "cell_type": "markdown",
   "metadata": {},
   "source": [
    "Compute the autocorrelogram for select unit IDs."
   ]
  },
  {
   "cell_type": "code",
   "execution_count": 9,
   "metadata": {},
   "outputs": [
    {
     "name": "stdout",
     "output_type": "stream",
     "text": [
      "Plotting autocorrelogram for spike units: [3 1]\n"
     ]
    },
    {
     "data": {
      "image/png": "[encoded data removed]",
      "text/plain": [
       "<Figure size 1440x480 with 2 Axes>"
      ]
     },
     "metadata": {},
     "output_type": "display_data"
    }
   ],
   "source": [
    "snc.plot_autocorrelogram(spike_units=[3,1,100], color='blue')"
   ]
  },
  {
   "cell_type": "markdown",
   "metadata": {},
   "source": [
    "Set the bin parameters after initialization, and re-plot.\n",
    "\n",
    "This can be used to change the binning on the plots, and max time lags."
   ]
  },
  {
   "cell_type": "code",
   "execution_count": 10,
   "metadata": {},
   "outputs": [
    {
     "name": "stdout",
     "output_type": "stream",
     "text": [
      "Plotting autocorrelogram for spike units: [ 0  1 16 17]\n"
     ]
    },
    {
     "data": {
      "image/png": "[encoded data removed]",
      "text/plain": [
       "<Figure size 1920x480 with 4 Axes>"
      ]
     },
     "metadata": {},
     "output_type": "display_data"
    }
   ],
   "source": [
    "snc.set_bin_settings(bin_size_ms=0.5, max_lag_ms=25)\n",
    "snc.plot_autocorrelogram(spike_units=[0,1,16,17], color='blue', figsize=(20,5))"
   ]
  },
  {
   "cell_type": "markdown",
   "metadata": {},
   "source": [
    "## Cross-correlograms\n",
    "----\n",
    "\n",
    "Visualize cross-correlograms between pairs.\n",
    "\n",
    "Bin size and time lag can be changed by re-setting the bins. However, for improved visualizations and reporting a smaller bin size and time lag is recommended."
   ]
  },
  {
   "cell_type": "code",
   "execution_count": 11,
   "metadata": {},
   "outputs": [
    {
     "data": {
      "image/png": "[encoded data removed]",
      "text/plain": [
       "<Figure size 1440x384 with 3 Axes>"
      ]
     },
     "metadata": {},
     "output_type": "display_data"
    }
   ],
   "source": [
    "spike_pairs = [(1,16), (1,5), (0,1), (1,16)]\n",
    "snc.plot_crosscorrelogram(spike_pairs=spike_pairs, figsize=(15, 4))"
   ]
  },
  {
   "cell_type": "markdown",
   "metadata": {},
   "source": [
    "Alternatively, all possible pairs can be plotted."
   ]
  },
  {
   "cell_type": "code",
   "execution_count": 12,
   "metadata": {},
   "outputs": [],
   "source": [
    "# spike_labels = snc.get_spike_unit_labels()\n",
    "\n",
    "# # get all possible pairs between labels as tuples (including self-pairs)\n",
    "# spike_pairs = [(i, j) for i in spike_labels for j in spike_labels]\n",
    "# snc.plot_crosscorrelogram(spike_pairs=spike_pairs, figsize=(20, 30))"
   ]
  },
  {
   "cell_type": "markdown",
   "metadata": {},
   "source": [
    "## Return correlogram data\n",
    "----\n",
    "\n",
    "Next, try returning the correlogram data.\n",
    "\n",
    "Each key in 'cross_correlations' is indexed by the unit pairs. The corresponding numbers refer to the spike counts, per bin.\n",
    "\n",
    "Each key in 'bins' is also indexed by the unit pairs. The corresponding numbers refer to the bins edges."
   ]
  },
  {
   "cell_type": "code",
   "execution_count": 13,
   "metadata": {},
   "outputs": [
    {
     "data": {
      "text/plain": [
       "{'cross_correllations': {(1,\n",
       "   16): array([2, 3, 1, 2, 0, 1, 0, 1, 0, 0, 0, 1, 0, 1, 0, 1, 0, 1, 2, 0, 0, 2,\n",
       "         0, 2, 0, 3, 0, 0, 0, 0, 1, 1, 1, 0, 0, 2, 1, 2, 2, 1, 0, 2, 1, 1,\n",
       "         0, 0, 0, 1, 1, 1, 0, 1, 0, 2, 0, 1, 2, 2, 1, 0, 1, 0, 1, 0, 1, 0,\n",
       "         0, 0, 1, 1, 1, 0, 2, 0, 0, 1, 0, 1, 1, 3, 0, 0, 0, 2, 0, 0, 1, 1,\n",
       "         1, 1, 1, 0, 0, 0, 1, 0, 1, 2, 0, 1]),\n",
       "  (1,\n",
       "   5): array([0, 0, 0, 0, 0, 1, 0, 0, 0, 0, 0, 0, 0, 1, 0, 0, 0, 0, 0, 2, 0, 0,\n",
       "         0, 0, 0, 0, 0, 0, 0, 0, 0, 1, 0, 0, 1, 0, 1, 0, 0, 0, 0, 0, 0, 0,\n",
       "         0, 0, 0, 2, 0, 0, 0, 0, 0, 1, 0, 0, 0, 1, 0, 0, 0, 0, 0, 1, 0, 0,\n",
       "         0, 0, 0, 0, 0, 0, 2, 0, 1, 0, 0, 0, 0, 0, 0, 0, 0, 1, 0, 0, 0, 0,\n",
       "         0, 0, 0, 0, 0, 0, 0, 0, 0, 1, 0, 0]),\n",
       "  (0,\n",
       "   1): array([2, 2, 1, 0, 2, 3, 1, 1, 3, 1, 1, 3, 1, 2, 1, 1, 3, 3, 1, 1, 2, 3,\n",
       "         0, 0, 2, 0, 1, 1, 0, 1, 0, 0, 0, 0, 0, 1, 1, 1, 4, 2, 1, 1, 1, 3,\n",
       "         2, 0, 3, 1, 2, 0, 0, 3, 1, 4, 0, 0, 1, 0, 1, 0, 3, 0, 0, 2, 1, 1,\n",
       "         5, 0, 2, 0, 1, 0, 2, 2, 0, 3, 0, 1, 1, 1, 1, 1, 2, 0, 2, 0, 1, 3,\n",
       "         3, 3, 0, 1, 1, 0, 2, 2, 1, 1, 0, 0])},\n",
       " 'bins': {(1,\n",
       "   16): array([-25. , -24.5, -24. , -23.5, -23. , -22.5, -22. , -21.5, -21. ,\n",
       "         -20.5, -20. , -19.5, -19. , -18.5, -18. , -17.5, -17. , -16.5,\n",
       "         -16. , -15.5, -15. , -14.5, -14. , -13.5, -13. , -12.5, -12. ,\n",
       "         -11.5, -11. , -10.5, -10. ,  -9.5,  -9. ,  -8.5,  -8. ,  -7.5,\n",
       "          -7. ,  -6.5,  -6. ,  -5.5,  -5. ,  -4.5,  -4. ,  -3.5,  -3. ,\n",
       "          -2.5,  -2. ,  -1.5,  -1. ,  -0.5,   0. ,   0.5,   1. ,   1.5,\n",
       "           2. ,   2.5,   3. ,   3.5,   4. ,   4.5,   5. ,   5.5,   6. ,\n",
       "           6.5,   7. ,   7.5,   8. ,   8.5,   9. ,   9.5,  10. ,  10.5,\n",
       "          11. ,  11.5,  12. ,  12.5,  13. ,  13.5,  14. ,  14.5,  15. ,\n",
       "          15.5,  16. ,  16.5,  17. ,  17.5,  18. ,  18.5,  19. ,  19.5,\n",
       "          20. ,  20.5,  21. ,  21.5,  22. ,  22.5,  23. ,  23.5,  24. ,\n",
       "          24.5,  25. ]),\n",
       "  (1,\n",
       "   5): array([-25. , -24.5, -24. , -23.5, -23. , -22.5, -22. , -21.5, -21. ,\n",
       "         -20.5, -20. , -19.5, -19. , -18.5, -18. , -17.5, -17. , -16.5,\n",
       "         -16. , -15.5, -15. , -14.5, -14. , -13.5, -13. , -12.5, -12. ,\n",
       "         -11.5, -11. , -10.5, -10. ,  -9.5,  -9. ,  -8.5,  -8. ,  -7.5,\n",
       "          -7. ,  -6.5,  -6. ,  -5.5,  -5. ,  -4.5,  -4. ,  -3.5,  -3. ,\n",
       "          -2.5,  -2. ,  -1.5,  -1. ,  -0.5,   0. ,   0.5,   1. ,   1.5,\n",
       "           2. ,   2.5,   3. ,   3.5,   4. ,   4.5,   5. ,   5.5,   6. ,\n",
       "           6.5,   7. ,   7.5,   8. ,   8.5,   9. ,   9.5,  10. ,  10.5,\n",
       "          11. ,  11.5,  12. ,  12.5,  13. ,  13.5,  14. ,  14.5,  15. ,\n",
       "          15.5,  16. ,  16.5,  17. ,  17.5,  18. ,  18.5,  19. ,  19.5,\n",
       "          20. ,  20.5,  21. ,  21.5,  22. ,  22.5,  23. ,  23.5,  24. ,\n",
       "          24.5,  25. ]),\n",
       "  (0,\n",
       "   1): array([-25. , -24.5, -24. , -23.5, -23. , -22.5, -22. , -21.5, -21. ,\n",
       "         -20.5, -20. , -19.5, -19. , -18.5, -18. , -17.5, -17. , -16.5,\n",
       "         -16. , -15.5, -15. , -14.5, -14. , -13.5, -13. , -12.5, -12. ,\n",
       "         -11.5, -11. , -10.5, -10. ,  -9.5,  -9. ,  -8.5,  -8. ,  -7.5,\n",
       "          -7. ,  -6.5,  -6. ,  -5.5,  -5. ,  -4.5,  -4. ,  -3.5,  -3. ,\n",
       "          -2.5,  -2. ,  -1.5,  -1. ,  -0.5,   0. ,   0.5,   1. ,   1.5,\n",
       "           2. ,   2.5,   3. ,   3.5,   4. ,   4.5,   5. ,   5.5,   6. ,\n",
       "           6.5,   7. ,   7.5,   8. ,   8.5,   9. ,   9.5,  10. ,  10.5,\n",
       "          11. ,  11.5,  12. ,  12.5,  13. ,  13.5,  14. ,  14.5,  15. ,\n",
       "          15.5,  16. ,  16.5,  17. ,  17.5,  18. ,  18.5,  19. ,  19.5,\n",
       "          20. ,  20.5,  21. ,  21.5,  22. ,  22.5,  23. ,  23.5,  24. ,\n",
       "          24.5,  25. ])}}"
      ]
     },
     "execution_count": 13,
     "metadata": {},
     "output_type": "execute_result"
    }
   ],
   "source": [
    "correlogram_data = snc.return_crosscorrelogram_data(spike_pairs=spike_pairs)\n",
    "correlogram_data"
   ]
  },
  {
   "cell_type": "markdown",
   "metadata": {},
   "source": [
    "Check the bin settings using for correlogram generations."
   ]
  },
  {
   "cell_type": "code",
   "execution_count": 14,
   "metadata": {},
   "outputs": [
    {
     "data": {
      "text/plain": [
       "'Bin size: 0.5 ms, Max lag: 25 ms'"
      ]
     },
     "execution_count": 14,
     "metadata": {},
     "output_type": "execute_result"
    }
   ],
   "source": [
    "snc.report_correlogram_settings()"
   ]
  },
  {
   "cell_type": "markdown",
   "metadata": {},
   "source": [
    "## Compute monosynaptic connections \n",
    "----\n",
    "\n",
    "Compute excitatory and inhibitory monosynaptic connections between spike trains. \n",
    "\n",
    "This analysis was based on the following reference by Najafi et al., [here](https://www.sciencedirect.com/science/article/pii/S0896627319308487)."
   ]
  },
  {
   "cell_type": "markdown",
   "metadata": {},
   "source": [
    "Compute synaptic strength for set paris of neuron IDs.\n",
    "\n",
    "Note, this adds an instance to the class which is used for further processing."
   ]
  },
  {
   "cell_type": "code",
   "execution_count": 15,
   "metadata": {},
   "outputs": [],
   "source": [
    "synaptic_strength_data = snc.synaptic_strength(spike_pairs=spike_pairs, num_iterations=1000, jitter_range_ms=10)"
   ]
  },
  {
   "cell_type": "markdown",
   "metadata": {},
   "source": [
    "Inspect the output synaptic strength data.\n",
    "\n",
    "Note that the output contains the following keys: \n",
    "1. ccg bins\n",
    "2. ccg counts (from original spike trains)\n",
    "3. ccg counts (post jitter)\n",
    "4. synaptic strength\n",
    "5. high confidence interval (99%)\n",
    "6. low confidence interval (1%)"
   ]
  },
  {
   "cell_type": "markdown",
   "metadata": {},
   "source": [
    "Check the synaptic strength data for a select pair.\n",
    "\n",
    "This can be done automatically by plotting the original ccg, and the z-scored value."
   ]
  },
  {
   "cell_type": "code",
   "execution_count": 29,
   "metadata": {},
   "outputs": [
    {
     "data": {
      "text/plain": [
       "dict_keys([(1, 16), (1, 5), (0, 1)])"
      ]
     },
     "execution_count": 29,
     "metadata": {},
     "output_type": "execute_result"
    }
   ],
   "source": [
    "snc.pair_synaptic_strength.keys()"
   ]
  },
  {
   "cell_type": "code",
   "execution_count": 43,
   "metadata": {},
   "outputs": [],
   "source": [
    "pair = (1, 16)"
   ]
  },
  {
   "cell_type": "code",
   "execution_count": 55,
   "metadata": {},
   "outputs": [
    {
     "data": {
      "text/plain": [
       "dict_keys(['ccg_bins', 'original_ccg_counts', 'jittered_ccg_counts', 'high_ci', 'low_ci', 'synaptic_strength', 'jittered_window_counts', 'window_high_ci', 'window_low_ci', 'window_slice'])"
      ]
     },
     "execution_count": 55,
     "metadata": {},
     "output_type": "execute_result"
    }
   ],
   "source": [
    "snc.pair_synaptic_strength[pair].keys()"
   ]
  },
  {
   "cell_type": "code",
   "execution_count": 60,
   "metadata": {},
   "outputs": [
    {
     "data": {
      "text/plain": [
       "slice(40, 61, None)"
      ]
     },
     "execution_count": 60,
     "metadata": {},
     "output_type": "execute_result"
    }
   ],
   "source": [
    "window_slice"
   ]
  },
  {
   "cell_type": "code",
   "execution_count": 85,
   "metadata": {},
   "outputs": [
    {
     "data": {
      "image/png": "[encoded data removed]",
      "text/plain": [
       "<Figure size 1440x480 with 2 Axes>"
      ]
     },
     "metadata": {},
     "output_type": "display_data"
    }
   ],
   "source": [
    "# unpack data\n",
    "ccg_bins = snc.pair_synaptic_strength[pair]['ccg_bins']\n",
    "ccg_data = snc.pair_synaptic_strength[pair]['original_ccg_counts']\n",
    "jittered_ccg_counts = snc.pair_synaptic_strength[pair]['jittered_ccg_counts']\n",
    "jittered_ccg_window_counts = snc.pair_synaptic_strength[pair]['jittered_window_counts']\n",
    "high_ci = snc.pair_synaptic_strength[pair]['high_ci']\n",
    "low_ci = snc.pair_synaptic_strength[pair]['low_ci']\n",
    "window_high_ci = snc.pair_synaptic_strength[pair]['window_high_ci']\n",
    "window_low_ci = snc.pair_synaptic_strength[pair]['window_low_ci']\n",
    "window_slice = snc.pair_synaptic_strength[pair]['window_slice']\n",
    "sliced_bins = ccg_bins[window_slice]\n",
    "\n",
    "# plot\n",
    "fig, ax = plt.subplots(1, 2, figsize=(15, 5), sharex=True, sharey=True)\n",
    "ax[0].bar(ccg_bins[1:], ccg_data, width=0.5, color='blue')\n",
    "ax[1].bar(ccg_bins[1:], jittered_ccg_counts.mean(axis=0), width=0.5, color='blue')\n",
    "ax[0].plot(ccg_bins[1:], high_ci, color='red', alpha=1, ls='--', label='99% CI')\n",
    "ax[0].plot(ccg_bins[1:], low_ci, color='red', alpha=0.3, ls='--', label='1% CI')\n",
    "\n",
    "# place box around the window as a visual aid using rectangle\n",
    "# and center the rectangle around zero\n",
    "for i in range(2):\n",
    "    ymin, ymax = ax[i].get_ylim()\n",
    "    rect = plt.Rectangle((ccg_bins[window_slice.start], 0), ccg_bins[window_slice.stop] - ccg_bins[window_slice.start], ymax, color='lightgrey', alpha=0.5, label='Selected window')\n",
    "    ax[i].add_patch(rect)\n",
    "\n",
    "\n",
    "# titles\n",
    "ax[0].set_title('Original CCG')\n",
    "ax[1].set_title('Jittered CCG')\n",
    "\n",
    "# axis labels\n",
    "ax[0].set_xlabel('Time lag (ms)')\n",
    "ax[1].set_xlabel('Time lag (ms)')\n",
    "ax[0].set_ylabel('Spike count/bin')\n",
    "ax[1].set_ylabel('Spike count/bin')\n",
    "\n",
    "# show legend\n",
    "ax[0].legend(bbox_to_anchor=(2.2, 1), loc='upper left')\n",
    "\n",
    "plt.show()\n",
    "\n",
    "\n",
    "# ensure that the variable naming is clear for all of these"
   ]
  },
  {
   "cell_type": "code",
   "execution_count": 70,
   "metadata": {},
   "outputs": [
    {
     "data": {
      "text/plain": [
       "40"
      ]
     },
     "execution_count": 70,
     "metadata": {},
     "output_type": "execute_result"
    }
   ],
   "source": [
    "window_slice.start"
   ]
  },
  {
   "cell_type": "code",
   "execution_count": 18,
   "metadata": {},
   "outputs": [
    {
     "data": {
      "text/plain": [
       "{'ccg_bins': array([-25. , -24.5, -24. , -23.5, -23. , -22.5, -22. , -21.5, -21. ,\n",
       "        -20.5, -20. , -19.5, -19. , -18.5, -18. , -17.5, -17. , -16.5,\n",
       "        -16. , -15.5, -15. , -14.5, -14. , -13.5, -13. , -12.5, -12. ,\n",
       "        -11.5, -11. , -10.5, -10. ,  -9.5,  -9. ,  -8.5,  -8. ,  -7.5,\n",
       "         -7. ,  -6.5,  -6. ,  -5.5,  -5. ,  -4.5,  -4. ,  -3.5,  -3. ,\n",
       "         -2.5,  -2. ,  -1.5,  -1. ,  -0.5,   0. ,   0.5,   1. ,   1.5,\n",
       "          2. ,   2.5,   3. ,   3.5,   4. ,   4.5,   5. ,   5.5,   6. ,\n",
       "          6.5,   7. ,   7.5,   8. ,   8.5,   9. ,   9.5,  10. ,  10.5,\n",
       "         11. ,  11.5,  12. ,  12.5,  13. ,  13.5,  14. ,  14.5,  15. ,\n",
       "         15.5,  16. ,  16.5,  17. ,  17.5,  18. ,  18.5,  19. ,  19.5,\n",
       "         20. ,  20.5,  21. ,  21.5,  22. ,  22.5,  23. ,  23.5,  24. ,\n",
       "         24.5,  25. ]),\n",
       " 'original_ccg_counts': array([2, 3, 1, 2, 0, 1, 0, 1, 0, 0, 0, 1, 0, 1, 0, 1, 0, 1, 2, 0, 0, 2,\n",
       "        0, 2, 0, 3, 0, 0, 0, 0, 1, 1, 1, 0, 0, 2, 1, 2, 2, 1, 0, 2, 1, 1,\n",
       "        0, 0, 0, 1, 1, 1, 0, 1, 0, 2, 0, 1, 2, 2, 1, 0, 1, 0, 1, 0, 1, 0,\n",
       "        0, 0, 1, 1, 1, 0, 2, 0, 0, 1, 0, 1, 1, 3, 0, 0, 0, 2, 0, 0, 1, 1,\n",
       "        1, 1, 1, 0, 0, 0, 1, 0, 1, 2, 0, 1]),\n",
       " 'jittered_ccg_counts': array([[2, 0, 0, ..., 0, 1, 2],\n",
       "        [1, 1, 3, ..., 1, 0, 0],\n",
       "        [0, 1, 2, ..., 2, 0, 0],\n",
       "        ...,\n",
       "        [0, 1, 0, ..., 1, 1, 0],\n",
       "        [0, 1, 0, ..., 0, 0, 0],\n",
       "        [1, 0, 0, ..., 0, 0, 0]]),\n",
       " 'high_ci': array([3.  , 3.  , 3.  , 3.  , 3.  , 3.  , 3.  , 3.  , 3.01, 3.  , 3.  ,\n",
       "        3.  , 3.  , 3.  , 3.  , 3.  , 3.  , 4.  , 3.  , 4.  , 4.  , 3.  ,\n",
       "        3.01, 3.  , 3.01, 3.  , 3.01, 3.01, 3.  , 3.  , 3.  , 3.  , 3.  ,\n",
       "        4.  , 3.  , 3.  , 3.  , 3.01, 4.  , 4.  , 3.  , 4.  , 4.  , 3.01,\n",
       "        3.  , 4.  , 3.  , 3.  , 3.  , 3.  , 3.  , 4.  , 3.  , 3.01, 3.  ,\n",
       "        3.  , 3.01, 3.  , 3.  , 3.  , 3.  , 3.  , 3.  , 3.01, 3.  , 3.  ,\n",
       "        3.  , 3.  , 3.  , 3.  , 3.  , 4.  , 3.  , 3.  , 3.  , 3.  , 3.  ,\n",
       "        3.01, 3.  , 3.  , 3.  , 3.  , 3.  , 3.  , 3.  , 3.  , 3.  , 3.  ,\n",
       "        3.  , 3.  , 3.  , 3.  , 3.  , 3.  , 3.  , 3.  , 3.  , 3.  , 3.  ,\n",
       "        3.  ]),\n",
       " 'low_ci': array([0., 0., 0., 0., 0., 0., 0., 0., 0., 0., 0., 0., 0., 0., 0., 0., 0.,\n",
       "        0., 0., 0., 0., 0., 0., 0., 0., 0., 0., 0., 0., 0., 0., 0., 0., 0.,\n",
       "        0., 0., 0., 0., 0., 0., 0., 0., 0., 0., 0., 0., 0., 0., 0., 0., 0.,\n",
       "        0., 0., 0., 0., 0., 0., 0., 0., 0., 0., 0., 0., 0., 0., 0., 0., 0.,\n",
       "        0., 0., 0., 0., 0., 0., 0., 0., 0., 0., 0., 0., 0., 0., 0., 0., 0.,\n",
       "        0., 0., 0., 0., 0., 0., 0., 0., 0., 0., 0., 0., 0., 0., 0.]),\n",
       " 'synaptic_strength': np.float64(1.373044898793238),\n",
       " 'jittered_window_counts': array([[2, 1, 0, ..., 0, 1, 1],\n",
       "        [1, 1, 1, ..., 0, 1, 0],\n",
       "        [1, 3, 1, ..., 1, 1, 3],\n",
       "        ...,\n",
       "        [0, 2, 2, ..., 1, 2, 0],\n",
       "        [0, 1, 0, ..., 0, 0, 0],\n",
       "        [0, 1, 1, ..., 0, 1, 2]]),\n",
       " 'window_high_ci': array([3.  , 4.  , 4.  , 3.01, 3.  , 4.  , 3.  , 3.  , 3.  , 3.  , 3.  ,\n",
       "        4.  , 3.  , 3.01, 3.  , 3.  , 3.01, 3.  , 3.  , 3.  , 3.  ]),\n",
       " 'window_low_ci': array([0., 0., 0., 0., 0., 0., 0., 0., 0., 0., 0., 0., 0., 0., 0., 0., 0.,\n",
       "        0., 0., 0., 0.]),\n",
       " 'window_slice': slice(40, 61, None)}"
      ]
     },
     "execution_count": 18,
     "metadata": {},
     "output_type": "execute_result"
    }
   ],
   "source": [
    "synaptic_strength_data[spike_pairs[0]]"
   ]
  },
  {
   "cell_type": "markdown",
   "metadata": {},
   "source": [
    "**Next, check the connection type.** \n",
    "\n",
    "Here, we can perform a putative detection using the z-score (synaptic strength) output.\n",
    "\n",
    "Thresholds should be set as > 5 for excitatory-connections, or inhibitory connections as < -5 based on the reference protocol."
   ]
  },
  {
   "cell_type": "code",
   "execution_count": 19,
   "metadata": {},
   "outputs": [
    {
     "data": {
      "text/html": [
       "<div>\n",
       "<style scoped>\n",
       "    .dataframe tbody tr th:only-of-type {\n",
       "        vertical-align: middle;\n",
       "    }\n",
       "\n",
       "    .dataframe tbody tr th {\n",
       "        vertical-align: top;\n",
       "    }\n",
       "\n",
       "    .dataframe thead th {\n",
       "        text-align: right;\n",
       "    }\n",
       "</style>\n",
       "<table border=\"1\" class=\"dataframe\">\n",
       "  <thead>\n",
       "    <tr style=\"text-align: right;\">\n",
       "      <th></th>\n",
       "      <th>Neuron Pair</th>\n",
       "      <th>Monosynaptic Connection Type</th>\n",
       "    </tr>\n",
       "  </thead>\n",
       "  <tbody>\n",
       "    <tr>\n",
       "      <th>0</th>\n",
       "      <td>(1, 16)</td>\n",
       "      <td>undefined</td>\n",
       "    </tr>\n",
       "    <tr>\n",
       "      <th>1</th>\n",
       "      <td>(1, 5)</td>\n",
       "      <td>undefined</td>\n",
       "    </tr>\n",
       "    <tr>\n",
       "      <th>2</th>\n",
       "      <td>(0, 1)</td>\n",
       "      <td>undefined</td>\n",
       "    </tr>\n",
       "  </tbody>\n",
       "</table>\n",
       "</div>"
      ],
      "text/plain": [
       "  Neuron Pair Monosynaptic Connection Type\n",
       "0     (1, 16)                    undefined\n",
       "1      (1, 5)                    undefined\n",
       "2      (0, 1)                    undefined"
      ]
     },
     "execution_count": 19,
     "metadata": {},
     "output_type": "execute_result"
    }
   ],
   "source": [
    "connection_types = snc.monosynaptic_connection_types(threshold = 5)\n",
    "\n",
    "# excitatory monosynaptic connections\n",
    "df = pd.DataFrame(list(connection_types.items()), columns=[\"Neuron Pair\", \"Monosynaptic Connection Type\"])\n",
    "df"
   ]
  },
  {
   "cell_type": "markdown",
   "metadata": {},
   "source": [
    "Check the ACG quality."
   ]
  },
  {
   "cell_type": "code",
   "execution_count": 20,
   "metadata": {},
   "outputs": [],
   "source": [
    "# from collections import namedtuple\n",
    "\n",
    "# # Define a named tuple type called 'Point' with fields 'x' and 'y'\n",
    "# res = namedtuple(\"isi_violation\", [\"isi_violations_ratio\", \"isi_violations_count\"])  # these are immutable!!!! \n",
    "\n",
    "# p = res(isi_violations_ratio=0.5, isi_violations_count=5)\n",
    "# p"
   ]
  },
  {
   "cell_type": "markdown",
   "metadata": {},
   "source": [
    "Output a features dataframe containing selected spike pairs."
   ]
  },
  {
   "cell_type": "code",
   "execution_count": null,
   "metadata": {},
   "outputs": [],
   "source": []
  },
  {
   "cell_type": "code",
   "execution_count": null,
   "metadata": {},
   "outputs": [],
   "source": []
  },
  {
   "cell_type": "markdown",
   "metadata": {},
   "source": [
    "Plot the CCGs for all pairs, and label their monosynaptic connections.\n",
    "\n",
    "Here, this can be done quickly using groupped feature modules."
   ]
  },
  {
   "cell_type": "code",
   "execution_count": null,
   "metadata": {},
   "outputs": [],
   "source": []
  },
  {
   "cell_type": "code",
   "execution_count": null,
   "metadata": {},
   "outputs": [],
   "source": []
  },
  {
   "cell_type": "markdown",
   "metadata": {},
   "source": [
    "## Validate connection type using waveform classifications\n",
    "-----\n",
    "\n",
    "Connection types are putatively based on CCG profiles. However, they should be cross-validated with waveform shapes and/or properties.\n",
    "\n",
    "For example, an excitatory neuron synapsed to a inhibitory interneuron, or two excitatory neurons are most likely to confer a excitatory-excitatory connection type. \n",
    "\n",
    "In such cases, neuron types can be postulated based on the waveforms alone, or additional firing properties, or even ACG profiles. "
   ]
  },
  {
   "cell_type": "code",
   "execution_count": null,
   "metadata": {},
   "outputs": [],
   "source": []
  },
  {
   "cell_type": "code",
   "execution_count": null,
   "metadata": {},
   "outputs": [],
   "source": []
  },
  {
   "cell_type": "code",
   "execution_count": null,
   "metadata": {},
   "outputs": [],
   "source": []
  },
  {
   "cell_type": "markdown",
   "metadata": {},
   "source": [
    "## Cross-check electrode distances\n",
    "-----"
   ]
  },
  {
   "cell_type": "code",
   "execution_count": null,
   "metadata": {},
   "outputs": [],
   "source": []
  },
  {
   "cell_type": "code",
   "execution_count": null,
   "metadata": {},
   "outputs": [],
   "source": []
  },
  {
   "cell_type": "code",
   "execution_count": null,
   "metadata": {},
   "outputs": [],
   "source": []
  },
  {
   "cell_type": "code",
   "execution_count": null,
   "metadata": {},
   "outputs": [],
   "source": []
  },
  {
   "cell_type": "code",
   "execution_count": null,
   "metadata": {},
   "outputs": [],
   "source": []
  },
  {
   "cell_type": "markdown",
   "metadata": {},
   "source": [
    "## TO DO:\n",
    "-----"
   ]
  },
  {
   "cell_type": "markdown",
   "metadata": {},
   "source": [
    "- Make sure there is a clear white sheet etc. for the jitter and statistics --> maybe make this into a doc?\n",
    "\n",
    "- Can you integrate it to map the connections between cells?\n",
    "\n",
    "- Place an option for the bin size and time lag in the plotting functions? Or fine as is, because then can streamline all processing here\n",
    "\n",
    "- Make a JSON output --> export module for the dataset! This will be then easier to load --> make another option to batch-process and visualize multiple datasets etc. etc.\n",
    "\n",
    "- Build in options for plotting using the synaptic strength calculations.\n",
    "\n",
    "- Make an option to improve the CCG accuracy by checking firing rates etc. etc. etc.\n",
    "\n",
    "- Any point having multiple plotting options here?\n",
    "\n",
    "- Plot all the data out\n",
    "\n",
    "- Make an option to add new data -- therefore clearing the previous data here\n",
    "\n",
    "- Check this analysis with a DANDI dataset\n",
    "\n",
    "- Make a simulation model for ccgs and times etc. etc. to test these parameters\n",
    "\n",
    "- Return ACG data\n",
    "\n",
    "- Test units\n",
    "\n",
    "- Style is not being fitted globally --> the decorator is useless?\n",
    "\n",
    "- Document all the steps in place to check this all out ...\n",
    "\n",
    "- Option to improve the labels here for the units? Check it with different input types\n",
    "\n",
    "- Build a core object which allows for batch-processing, but also adds in the srates etc. of the recordings\n",
    "\n",
    "- Option to cross-check with the distances???\n",
    "\n",
    "- Option to change individual colors for CCGs?\n",
    "\n",
    "- Merge the CCG and ACG decorators into one?\n",
    "\n",
    "- For autocorrelograms:\n",
    "    - ensure that the input is a list type \n",
    "    - add a function to check the lags and the bins for this etc.\n",
    "    - check whether unit ids can be in str format etc.\n",
    "\n",
    "- Plot_ccg is computing and then plotssing --> should be separate?\n",
    "\n",
    "- Analysis for CCG and ACG should be separated?\n",
    "\n",
    "- Check the CCG binning --> test this!\n",
    "\n",
    "- Check the type hinting / remove these?"
   ]
  },
  {
   "cell_type": "markdown",
   "metadata": {},
   "source": []
  }
 ],
 "metadata": {
  "kernelspec": {
   "display_name": ".venv",
   "language": "python",
   "name": "python3"
  },
  "language_info": {
   "codemirror_mode": {
    "name": "ipython",
    "version": 3
   },
   "file_extension": ".py",
   "mimetype": "text/x-python",
   "name": "python",
   "nbconvert_exporter": "python",
   "pygments_lexer": "ipython3",
   "version": "3.10.1"
  },
  "orig_nbformat": 4
 },
 "nbformat": 4,
 "nbformat_minor": 2
}
