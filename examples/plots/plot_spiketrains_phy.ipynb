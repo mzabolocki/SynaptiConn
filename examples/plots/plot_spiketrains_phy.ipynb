{
 "cells": [
  {
   "cell_type": "markdown",
   "metadata": {},
   "source": [
    "# Monosynaptic pair analysis\n",
    "-------\n",
    "\n",
    "Example notebook demonstrating simple functions in SynapticConn for plotting spike trains. "
   ]
  },
  {
   "cell_type": "code",
   "execution_count": 1,
   "metadata": {},
   "outputs": [
    {
     "name": "stdout",
     "output_type": "stream",
     "text": [
      "/Users/michael.zabolocki/Desktop/code/SynaptiConn\n"
     ]
    }
   ],
   "source": [
    "import os\n",
    "import pathlib\n",
    "\n",
    "import numpy as np\n",
    "import pandas as pd\n",
    "\n",
    "import matplotlib.pyplot as plt\n",
    "\n",
    "os.chdir('../..')\n",
    "print(os.getcwd())\n",
    "\n",
    "from synapticonn.plots import plot_acg, plot_ccg\n",
    "from synapticonn.postprocessing import compute_crosscorrelogram, compute_autocorrelogram\n",
    "from synapticonn.monosynaptic_connections.synaptic_strength import calculate_synaptic_strength\n",
    "\n",
    "import synapticonn as synapticonn"
   ]
  },
  {
   "cell_type": "markdown",
   "metadata": {},
   "source": [
    "Load data. "
   ]
  },
  {
   "cell_type": "code",
   "execution_count": 2,
   "metadata": {},
   "outputs": [],
   "source": [
    "data_fpath = pathlib.Path('tests', 'BD0187_spikesorting_array.pkl')\n",
    "\n",
    "# open pickle\n",
    "all_units = np.load(data_fpath, allow_pickle=True)\n",
    "all_units = all_units['spike_time_set']"
   ]
  },
  {
   "cell_type": "markdown",
   "metadata": {},
   "source": [
    "Set parameters."
   ]
  },
  {
   "cell_type": "code",
   "execution_count": 3,
   "metadata": {},
   "outputs": [],
   "source": [
    "srate = 30_000\n",
    "bin_size_ms = 0.5\n",
    "max_lag_ms = 25"
   ]
  },
  {
   "cell_type": "code",
   "execution_count": 4,
   "metadata": {},
   "outputs": [
    {
     "data": {
      "text/plain": [
       "array([1.1100000e+00, 3.0323000e+01, 7.2956000e+01, 9.6593000e+01,\n",
       "       1.1971700e+02, 1.6023500e+02, 2.0996300e+02, 2.4778000e+02,\n",
       "       2.8832600e+02, 3.8838000e+02, 4.6826300e+02, 5.0345200e+02,\n",
       "       5.7450900e+02, 6.1240900e+02, 6.3823600e+02, 6.9785200e+02,\n",
       "       8.9628900e+02, 9.2666900e+02, 9.4429300e+02, 1.0421220e+03,\n",
       "       1.1669760e+03, 1.3353610e+03, 1.6220030e+03, 1.6453560e+03,\n",
       "       1.9049220e+03, 1.9241470e+03, 1.9465860e+03, 2.1858450e+03,\n",
       "       2.2084640e+03, 2.2317090e+03, 2.2454880e+03, 2.3526950e+03,\n",
       "       2.4835180e+03, 2.9102840e+03, 2.9854200e+03, 3.0289710e+03,\n",
       "       3.1091040e+03, 3.1302600e+03, 3.1661740e+03, 3.2218330e+03,\n",
       "       3.2694330e+03, 3.3440550e+03, 3.4099460e+03, 3.4376820e+03,\n",
       "       3.5313540e+03, 3.6363680e+03, 3.6934500e+03, 3.7540700e+03,\n",
       "       3.8190660e+03, 3.8688500e+03, 3.8947750e+03, 3.9505320e+03,\n",
       "       3.9849160e+03, 4.0444970e+03, 4.1694010e+03, 4.2029280e+03,\n",
       "       4.2471560e+03, 4.3665900e+03, 4.4340930e+03, 4.5037120e+03,\n",
       "       4.5280380e+03, 4.8082390e+03, 4.8554900e+03, 4.9399600e+03,\n",
       "       5.3833490e+03, 5.4127960e+03, 5.4316680e+03, 5.4487780e+03,\n",
       "       5.4683340e+03, 5.5184130e+03, 5.5932850e+03, 5.6156270e+03,\n",
       "       5.6609130e+03, 5.7092840e+03, 5.7252380e+03, 5.7773870e+03,\n",
       "       5.8831990e+03, 5.9087020e+03, 5.9418650e+03, 5.9693970e+03,\n",
       "       6.0022970e+03, 6.0262010e+03, 6.0520130e+03, 6.0771910e+03,\n",
       "       6.1393940e+03, 6.1761350e+03, 6.2511390e+03, 6.3286930e+03,\n",
       "       6.3704850e+03, 6.4286250e+03, 6.4695010e+03, 6.5502260e+03,\n",
       "       6.5868090e+03, 6.6936530e+03, 6.7102910e+03, 6.7333000e+03,\n",
       "       6.8047040e+03, 6.8549370e+03, 6.9200080e+03, 7.0465990e+03,\n",
       "       7.0991500e+03, 7.1841200e+03, 7.2087950e+03, 7.3613300e+03,\n",
       "       7.4130110e+03, 7.4564790e+03, 7.5585100e+03, 7.5889480e+03,\n",
       "       7.6331430e+03, 7.6565880e+03, 7.7207280e+03, 7.7861860e+03,\n",
       "       7.8399190e+03, 7.8685980e+03, 7.8978570e+03, 7.9133900e+03,\n",
       "       7.9314710e+03, 8.0083200e+03, 8.0412550e+03, 8.1309990e+03,\n",
       "       8.1867070e+03, 8.2258340e+03, 8.2585020e+03, 8.2839300e+03,\n",
       "       8.3149030e+03, 8.3902170e+03, 8.4406370e+03, 8.4805570e+03,\n",
       "       8.5718510e+03, 8.6159330e+03, 8.7422960e+03, 8.7826320e+03,\n",
       "       8.8151900e+03, 8.8305940e+03, 8.8747840e+03, 8.8898760e+03,\n",
       "       8.9585970e+03, 9.0045960e+03, 9.1021180e+03, 9.1470000e+03,\n",
       "       9.1730770e+03, 9.2201470e+03, 9.2488660e+03, 9.2923660e+03,\n",
       "       9.3396280e+03, 9.3787470e+03, 9.4186850e+03, 9.4435660e+03,\n",
       "       9.4759400e+03, 9.5521610e+03, 9.6227240e+03, 9.6632840e+03,\n",
       "       9.7060090e+03, 9.7656850e+03, 9.7929660e+03, 9.8428470e+03,\n",
       "       9.8766500e+03, 9.9090610e+03, 9.9396290e+03, 1.0011294e+04,\n",
       "       1.0056459e+04, 1.0084956e+04, 1.0133199e+04, 1.0184760e+04,\n",
       "       1.0311262e+04, 1.0337967e+04, 1.0387350e+04, 1.0442006e+04,\n",
       "       1.0501091e+04, 1.0555670e+04, 1.0577640e+04, 1.0593435e+04,\n",
       "       1.0619985e+04, 1.0687236e+04, 1.0720807e+04, 1.0767970e+04,\n",
       "       1.0819815e+04, 1.0874238e+04, 1.0899830e+04, 1.0948939e+04,\n",
       "       1.1017276e+04, 1.1171283e+04, 1.1195450e+04, 1.1218441e+04,\n",
       "       1.1238836e+04, 1.1311322e+04, 1.1371610e+04, 1.1423366e+04,\n",
       "       1.1468977e+04, 1.1517343e+04, 1.1549145e+04, 1.1603738e+04,\n",
       "       1.1700871e+04, 1.1783715e+04, 1.1860730e+04, 1.1916053e+04,\n",
       "       1.1997378e+04, 1.2038544e+04, 1.2071160e+04, 1.2149020e+04,\n",
       "       1.2196236e+04, 1.2273122e+04, 1.2306845e+04, 1.2343363e+04,\n",
       "       1.2400459e+04, 1.2447195e+04, 1.2503126e+04, 1.2561747e+04,\n",
       "       1.2656457e+04, 1.2716480e+04, 1.2911130e+04, 1.3233495e+04,\n",
       "       1.3432344e+04, 1.3512316e+04, 1.3605278e+04, 1.3724017e+04,\n",
       "       1.3745659e+04, 1.3774515e+04, 1.3895330e+04, 1.3966653e+04,\n",
       "       1.4004956e+04, 1.4045512e+04, 1.4074052e+04, 1.4121840e+04,\n",
       "       1.4143147e+04, 1.4205398e+04, 1.4241900e+04, 1.4292487e+04,\n",
       "       1.4340755e+04, 1.4371129e+04, 1.4396640e+04, 1.4427732e+04,\n",
       "       1.4490270e+04, 1.4564399e+04, 1.4635034e+04, 1.4677582e+04,\n",
       "       1.4728082e+04, 1.4912747e+04, 1.4949677e+04, 1.5001460e+04,\n",
       "       1.5134577e+04, 1.5164528e+04, 1.5215843e+04, 1.5269235e+04,\n",
       "       1.5370174e+04, 1.5431291e+04, 1.5750265e+04, 1.5796110e+04,\n",
       "       1.5825107e+04, 1.5940688e+04, 1.5996970e+04, 1.6049305e+04,\n",
       "       1.6101888e+04, 1.6121729e+04, 1.6213698e+04, 1.6283695e+04,\n",
       "       1.6318540e+04, 1.6343445e+04, 1.6385607e+04, 1.6431176e+04,\n",
       "       1.6458999e+04, 1.6497853e+04, 1.6541212e+04, 1.6573875e+04,\n",
       "       1.6611549e+04, 1.6637949e+04, 1.6669408e+04, 1.6682757e+04,\n",
       "       1.6712264e+04, 1.6749001e+04, 1.6802768e+04, 1.6834167e+04,\n",
       "       1.6876231e+04, 1.6917439e+04, 1.6951972e+04, 1.6980432e+04,\n",
       "       1.7002365e+04, 1.7020502e+04, 1.7043481e+04, 1.7120852e+04,\n",
       "       1.7144811e+04, 1.7170811e+04, 1.7226913e+04, 1.7260699e+04,\n",
       "       1.7294202e+04, 1.7322885e+04, 1.7358648e+04, 1.7402216e+04,\n",
       "       1.7443192e+04, 1.7484848e+04, 1.7510297e+04, 1.7535040e+04,\n",
       "       1.7569632e+04, 1.7598033e+04, 1.7636312e+04, 1.7666938e+04,\n",
       "       1.7696271e+04, 1.7733696e+04, 1.7813860e+04, 1.7873076e+04,\n",
       "       1.7897544e+04, 1.7923725e+04])"
      ]
     },
     "execution_count": 4,
     "metadata": {},
     "output_type": "execute_result"
    }
   ],
   "source": [
    "all_units[5]/1000"
   ]
  },
  {
   "cell_type": "markdown",
   "metadata": {},
   "source": [
    "Initialize the object."
   ]
  },
  {
   "cell_type": "code",
   "execution_count": 6,
   "metadata": {},
   "outputs": [],
   "source": [
    "snc = synapticonn.SynaptiConn(all_units, bin_size_ms=1, max_lag_ms=100, srate=30_000, recording_length_ms=600*1000)"
   ]
  },
  {
   "cell_type": "markdown",
   "metadata": {},
   "source": [
    "Check the loaded spike units."
   ]
  },
  {
   "cell_type": "code",
   "execution_count": 7,
   "metadata": {},
   "outputs": [
    {
     "data": {
      "text/html": [
       "<div>\n",
       "<style scoped>\n",
       "    .dataframe tbody tr th:only-of-type {\n",
       "        vertical-align: middle;\n",
       "    }\n",
       "\n",
       "    .dataframe tbody tr th {\n",
       "        vertical-align: top;\n",
       "    }\n",
       "\n",
       "    .dataframe thead th {\n",
       "        text-align: right;\n",
       "    }\n",
       "</style>\n",
       "<table border=\"1\" class=\"dataframe\">\n",
       "  <thead>\n",
       "    <tr style=\"text-align: right;\">\n",
       "      <th></th>\n",
       "      <th>unit_id</th>\n",
       "      <th>n_spikes</th>\n",
       "    </tr>\n",
       "  </thead>\n",
       "  <tbody>\n",
       "    <tr>\n",
       "      <th>0</th>\n",
       "      <td>5</td>\n",
       "      <td>302</td>\n",
       "    </tr>\n",
       "    <tr>\n",
       "      <th>1</th>\n",
       "      <td>1</td>\n",
       "      <td>1152</td>\n",
       "    </tr>\n",
       "    <tr>\n",
       "      <th>2</th>\n",
       "      <td>0</td>\n",
       "      <td>918</td>\n",
       "    </tr>\n",
       "    <tr>\n",
       "      <th>3</th>\n",
       "      <td>16</td>\n",
       "      <td>524</td>\n",
       "    </tr>\n",
       "    <tr>\n",
       "      <th>4</th>\n",
       "      <td>17</td>\n",
       "      <td>315</td>\n",
       "    </tr>\n",
       "    <tr>\n",
       "      <th>5</th>\n",
       "      <td>18</td>\n",
       "      <td>195</td>\n",
       "    </tr>\n",
       "    <tr>\n",
       "      <th>6</th>\n",
       "      <td>15</td>\n",
       "      <td>192</td>\n",
       "    </tr>\n",
       "    <tr>\n",
       "      <th>7</th>\n",
       "      <td>4</td>\n",
       "      <td>299</td>\n",
       "    </tr>\n",
       "    <tr>\n",
       "      <th>8</th>\n",
       "      <td>3</td>\n",
       "      <td>277</td>\n",
       "    </tr>\n",
       "  </tbody>\n",
       "</table>\n",
       "</div>"
      ],
      "text/plain": [
       "   unit_id  n_spikes\n",
       "0        5       302\n",
       "1        1      1152\n",
       "2        0       918\n",
       "3       16       524\n",
       "4       17       315\n",
       "5       18       195\n",
       "6       15       192\n",
       "7        4       299\n",
       "8        3       277"
      ]
     },
     "execution_count": 7,
     "metadata": {},
     "output_type": "execute_result"
    }
   ],
   "source": [
    "spk_unit_report = snc.report_spike_units()\n",
    "pd.DataFrame(spk_unit_report)"
   ]
  },
  {
   "cell_type": "markdown",
   "metadata": {},
   "source": [
    "## Auto-correlograms\n",
    "---"
   ]
  },
  {
   "cell_type": "markdown",
   "metadata": {},
   "source": [
    "Compute the autocorrelogram for select unit IDs."
   ]
  },
  {
   "cell_type": "code",
   "execution_count": 8,
   "metadata": {},
   "outputs": [
    {
     "name": "stdout",
     "output_type": "stream",
     "text": [
      "Plotting autocorrelogram for spike units: [3 1]\n"
     ]
    },
    {
     "data": {
      "image/png": "[encoded data removed]",
      "text/plain": [
       "<Figure size 1440x480 with 2 Axes>"
      ]
     },
     "metadata": {},
     "output_type": "display_data"
    }
   ],
   "source": [
    "snc.plot_autocorrelogram(spike_units=[3,1,100], color='blue')"
   ]
  },
  {
   "cell_type": "markdown",
   "metadata": {},
   "source": [
    "Set the bin parameters after initialization, and re-plot.\n",
    "\n",
    "This can be used to change the binning on the plots, and max time lags."
   ]
  },
  {
   "cell_type": "code",
   "execution_count": 42,
   "metadata": {},
   "outputs": [
    {
     "name": "stdout",
     "output_type": "stream",
     "text": [
      "Plotting autocorrelogram for spike units: [ 0  1 16 17]\n"
     ]
    },
    {
     "data": {
      "image/png": "[encoded data removed]",
      "text/plain": [
       "<Figure size 1920x480 with 4 Axes>"
      ]
     },
     "metadata": {},
     "output_type": "display_data"
    }
   ],
   "source": [
    "snc.set_bin_settings(bin_size_ms=0.5, max_lag_ms=25)\n",
    "snc.plot_autocorrelogram(spike_units=[0,1,16,17], color='blue', figsize=(20,5))"
   ]
  },
  {
   "cell_type": "markdown",
   "metadata": {},
   "source": [
    "## Cross-correlograms\n",
    "----\n",
    "\n",
    "Visualize cross-correlograms between pairs."
   ]
  },
  {
   "cell_type": "code",
   "execution_count": 10,
   "metadata": {},
   "outputs": [
    {
     "data": {
      "image/png": "[encoded data removed]",
      "text/plain": [
       "<Figure size 1440x384 with 3 Axes>"
      ]
     },
     "metadata": {},
     "output_type": "display_data"
    }
   ],
   "source": [
    "spike_pairs = [(1,16), (1,5), (0,1), (1,16)]\n",
    "snc.plot_crosscorrelogram(spike_pairs=spike_pairs, figsize=(15, 4))"
   ]
  },
  {
   "cell_type": "markdown",
   "metadata": {},
   "source": [
    "Alternatively, all possible pairs can be plotted."
   ]
  },
  {
   "cell_type": "code",
   "execution_count": 11,
   "metadata": {},
   "outputs": [],
   "source": [
    "# spike_labels = snc.get_spike_unit_labels()\n",
    "\n",
    "# # get all possible pairs between labels as tuples (including self-pairs)\n",
    "# spike_pairs = [(i, j) for i in spike_labels for j in spike_labels]\n",
    "# snc.plot_crosscorrelogram(spike_pairs=spike_pairs, figsize=(20, 30))"
   ]
  },
  {
   "cell_type": "markdown",
   "metadata": {},
   "source": [
    "## Return correlogram data\n",
    "----\n",
    "\n",
    "Next, try returning the correlogram data.\n",
    "\n",
    "Each key in 'cross_correlations' is indexed by the unit pairs. The corresponding numbers refer to the spike counts, per bin.\n",
    "\n",
    "Each key in 'bins' is also indexed by the unit pairs. The corresponding numbers refer to the bins edges."
   ]
  },
  {
   "cell_type": "code",
   "execution_count": 12,
   "metadata": {},
   "outputs": [
    {
     "data": {
      "text/plain": [
       "{'cross_correllations': {(1,\n",
       "   16): array([0, 1, 1, 1, 0, 0, 1, 1, 1, 0, 0, 1, 0, 0, 1, 1, 0, 1, 2, 1, 0, 1,\n",
       "         1, 1, 0, 1, 0, 0, 2, 0, 1, 0, 1, 0, 0, 1, 1, 2, 0, 0, 2, 1, 1, 0,\n",
       "         1, 0, 0, 1, 1, 0, 1, 0, 0, 0, 0, 0, 0, 0, 1, 1, 0, 0, 2, 1, 1, 0,\n",
       "         0, 0, 0, 1, 0, 1, 2, 1, 0, 2, 0, 1, 0, 1, 0, 1, 1, 1, 0, 1, 0, 2,\n",
       "         2, 0, 0, 1, 0, 1, 0, 1, 1, 2, 1, 1, 0, 2, 2, 0, 0, 0, 0, 0, 1, 2,\n",
       "         1, 0, 2, 1, 1, 0, 0, 0, 1, 0, 2, 3, 0, 1, 0, 0, 0, 0, 1, 0, 1, 0,\n",
       "         0, 2, 0, 0, 0, 0, 3, 2, 1, 0, 1, 1, 2, 2, 0, 1, 0, 1, 1, 0, 1, 1,\n",
       "         0, 0, 2, 2, 2, 1, 1, 0, 0, 1, 0, 0, 0, 0, 1, 0, 0, 0, 0, 1, 1, 2,\n",
       "         0, 0, 2, 0, 0, 0, 0, 0, 3, 2, 1, 0, 3, 0, 1, 1, 0, 2, 1, 2, 0, 1,\n",
       "         0, 0, 0, 0, 0, 2, 0, 1, 0, 0, 1, 0, 2, 0, 0, 2, 1, 2, 0, 0, 1, 0,\n",
       "         1, 1, 0, 1, 1, 1, 0, 0, 2, 1, 0, 1, 0, 0, 1, 0, 0, 0, 1, 0, 1, 0,\n",
       "         1, 1, 0, 0, 0, 0, 0, 0, 1, 0, 0, 0, 0, 3, 1, 1, 1, 1, 2, 1, 1, 0,\n",
       "         0, 0, 1, 1, 3, 0, 1, 0, 0, 0, 1, 1, 0, 2, 1, 1, 1, 1, 1, 2, 1, 0,\n",
       "         0, 1, 0, 1, 1, 0, 1, 0, 0, 1, 1, 2, 1, 0, 1, 1, 2, 0, 0, 0, 0, 0,\n",
       "         2, 1, 0, 0, 0, 1, 1, 1, 0, 0, 0, 0, 0, 3, 0, 0, 0, 0, 0, 0, 1, 0,\n",
       "         2, 0, 2, 0, 0, 1, 1, 0, 2, 1, 0, 1, 1, 1, 0, 0, 1, 0, 2, 0, 2, 3,\n",
       "         1, 2, 0, 1, 0, 1, 0, 0, 0, 1, 0, 1, 0, 1, 0, 1, 2, 0, 0, 2, 0, 2,\n",
       "         0, 3, 0, 0, 0, 0, 1, 1, 1, 0, 0, 2, 1, 2, 2, 1, 0, 2, 1, 1, 0, 0,\n",
       "         0, 1, 1, 1, 0, 1, 0, 2, 0, 1, 2, 2, 1, 0, 1, 0, 1, 0, 1, 0, 0, 0,\n",
       "         1, 1, 1, 0, 2, 0, 0, 1, 0, 1, 1, 3, 0, 0, 0, 2, 0, 0, 1, 1, 1, 1,\n",
       "         1, 0, 0, 0, 1, 0, 1, 2, 0, 1, 1, 1, 0, 0, 1, 1, 0, 1, 0, 0, 0, 0,\n",
       "         0, 0, 0, 1, 0, 2, 1, 0, 1, 2, 1, 1, 1, 0, 0, 0, 3, 0, 0, 1, 0, 1,\n",
       "         0, 0, 0, 1, 1, 1, 0, 0, 1, 1, 1, 1, 1, 1, 0, 0, 1, 0, 0, 1, 0, 0,\n",
       "         2, 1, 1, 2, 1, 1, 0, 1, 0, 2, 1, 0, 0, 0, 1, 1, 0, 1, 0, 0, 2, 0,\n",
       "         2, 1, 0, 0, 0, 1, 0, 0, 0, 0, 1, 1, 1, 1, 1, 0, 4, 0, 3, 0, 0, 0,\n",
       "         0, 1, 0, 0, 0, 0, 0, 1, 0, 0, 0, 1, 0, 0, 0, 1, 0, 0, 0, 2, 2, 0,\n",
       "         1, 0, 0, 0, 0, 0, 0, 0, 0, 0, 0, 1, 0, 1, 2, 2, 0, 0, 0, 0, 0, 0,\n",
       "         1, 1, 3, 1, 0, 0, 2, 0, 0, 1, 1, 0, 0, 0, 1, 0, 0, 0, 0, 0, 0, 0,\n",
       "         0, 1, 1, 0, 1, 0, 0, 0, 0, 0, 0, 0, 0, 1, 1, 2, 2, 0, 0, 0, 1, 0,\n",
       "         0, 0, 1, 0, 0, 2, 2, 1, 0, 0, 0, 0, 0, 0, 3, 1, 0, 0, 1, 0, 0, 2,\n",
       "         0, 0, 1, 1, 0, 0, 1, 1, 0, 0, 0, 0, 0, 0, 1, 1, 2, 0, 2, 0, 1, 0,\n",
       "         0, 3, 0, 1, 0, 0, 1, 3, 0, 1, 1, 1, 0, 0, 0, 1, 0, 1, 0, 2, 1, 0,\n",
       "         1, 0, 2, 2, 0, 0, 1, 0, 0, 0, 1, 0, 0, 0, 2, 1, 0, 0, 2, 0, 0, 0,\n",
       "         0, 1, 0, 1, 0, 0, 2, 1, 0, 0, 1, 0, 0, 0, 0, 2, 1, 1, 2, 0, 1, 0,\n",
       "         0, 2, 2, 0, 0, 1, 0, 0, 0, 0, 0, 0, 1, 1, 0, 1, 1, 0, 0, 0, 1, 0,\n",
       "         0, 1, 1, 1, 0, 0, 1, 1, 0, 0, 0, 0, 1, 0, 0, 0, 1, 0, 0, 0, 0, 0,\n",
       "         1, 1, 0, 0, 1, 0, 1, 0]),\n",
       "  (1,\n",
       "   5): array([0, 0, 0, 0, 1, 2, 0, 1, 0, 1, 0, 1, 1, 1, 0, 0, 0, 0, 0, 0, 0, 0,\n",
       "         1, 0, 0, 0, 0, 0, 0, 1, 1, 0, 0, 1, 0, 1, 0, 0, 0, 0, 0, 1, 0, 0,\n",
       "         0, 0, 0, 0, 0, 2, 0, 0, 1, 0, 1, 1, 0, 1, 0, 0, 0, 0, 0, 1, 0, 1,\n",
       "         0, 0, 0, 0, 2, 0, 0, 0, 1, 0, 1, 1, 0, 0, 1, 0, 0, 1, 0, 0, 0, 0,\n",
       "         1, 0, 1, 0, 1, 0, 0, 0, 0, 0, 0, 1, 0, 1, 0, 0, 1, 1, 1, 1, 0, 0,\n",
       "         0, 1, 0, 0, 0, 0, 1, 0, 0, 1, 0, 0, 0, 0, 1, 0, 0, 0, 1, 0, 0, 0,\n",
       "         0, 0, 0, 1, 0, 0, 0, 1, 0, 1, 2, 0, 0, 0, 0, 0, 0, 0, 0, 0, 0, 2,\n",
       "         0, 0, 0, 0, 2, 0, 0, 0, 0, 0, 1, 0, 0, 0, 0, 0, 0, 0, 1, 0, 0, 0,\n",
       "         0, 0, 1, 0, 0, 0, 0, 0, 1, 0, 0, 1, 0, 1, 0, 0, 0, 0, 0, 0, 0, 0,\n",
       "         0, 0, 0, 0, 0, 0, 0, 2, 0, 0, 0, 0, 0, 1, 1, 0, 0, 0, 1, 1, 1, 0,\n",
       "         0, 2, 0, 0, 0, 0, 0, 0, 0, 0, 0, 1, 0, 0, 0, 0, 0, 0, 0, 2, 1, 0,\n",
       "         1, 0, 0, 1, 0, 0, 1, 0, 1, 2, 0, 0, 0, 0, 0, 0, 1, 0, 1, 1, 1, 1,\n",
       "         0, 0, 2, 0, 1, 1, 0, 0, 0, 0, 1, 0, 0, 0, 0, 1, 1, 0, 1, 1, 0, 0,\n",
       "         0, 1, 1, 0, 0, 1, 2, 0, 1, 0, 0, 0, 0, 0, 1, 1, 0, 1, 0, 0, 1, 1,\n",
       "         0, 2, 0, 1, 2, 0, 0, 0, 1, 0, 0, 0, 0, 0, 0, 1, 0, 0, 0, 0, 1, 0,\n",
       "         0, 1, 0, 1, 0, 0, 1, 2, 0, 1, 1, 0, 1, 0, 0, 0, 0, 0, 0, 2, 0, 0,\n",
       "         0, 0, 0, 1, 0, 0, 0, 0, 0, 0, 0, 1, 0, 0, 0, 0, 0, 2, 0, 0, 0, 0,\n",
       "         0, 0, 0, 0, 0, 0, 0, 1, 0, 0, 1, 0, 1, 0, 0, 0, 0, 0, 0, 0, 0, 0,\n",
       "         0, 2, 0, 0, 0, 0, 0, 1, 0, 0, 0, 1, 0, 0, 0, 0, 0, 1, 0, 0, 0, 0,\n",
       "         0, 0, 0, 0, 2, 0, 1, 0, 0, 0, 0, 0, 0, 0, 0, 1, 0, 0, 0, 0, 0, 0,\n",
       "         0, 0, 0, 0, 0, 0, 0, 1, 0, 0, 0, 1, 0, 0, 0, 0, 0, 0, 0, 2, 0, 0,\n",
       "         0, 0, 0, 1, 0, 0, 1, 0, 0, 0, 0, 0, 0, 0, 0, 0, 1, 0, 0, 0, 0, 1,\n",
       "         0, 1, 1, 1, 1, 0, 1, 0, 2, 1, 1, 1, 0, 0, 0, 0, 0, 0, 0, 1, 0, 0,\n",
       "         1, 1, 0, 2, 0, 0, 0, 0, 2, 0, 0, 1, 0, 0, 1, 0, 1, 0, 0, 0, 0, 0,\n",
       "         0, 0, 1, 0, 0, 1, 0, 0, 0, 0, 0, 1, 1, 0, 0, 0, 1, 0, 1, 1, 0, 1,\n",
       "         0, 0, 0, 1, 0, 0, 0, 0, 0, 0, 0, 0, 1, 0, 0, 0, 1, 0, 0, 1, 0, 0,\n",
       "         0, 0, 0, 0, 0, 0, 0, 0, 0, 0, 1, 2, 0, 0, 0, 0, 0, 0, 0, 0, 0, 2,\n",
       "         0, 0, 0, 0, 0, 0, 0, 0, 0, 1, 0, 0, 0, 0, 0, 0, 0, 2, 0, 1, 0, 0,\n",
       "         1, 0, 0, 0, 1, 0, 1, 1, 0, 0, 0, 1, 0, 0, 0, 1, 0, 0, 1, 1, 0, 1,\n",
       "         0, 0, 0, 1, 1, 0, 0, 0, 0, 1, 0, 0, 2, 0, 2, 1, 1, 1, 0, 0, 0, 1,\n",
       "         0, 0, 0, 0, 0, 0, 0, 1, 1, 1, 0, 0, 0, 0, 1, 0, 0, 0, 1, 0, 0, 0,\n",
       "         0, 2, 0, 1, 2, 0, 2, 0, 1, 0, 0, 2, 0, 0, 1, 0, 0, 0, 0, 2, 0, 1,\n",
       "         0, 0, 0, 0, 0, 2, 0, 0, 1, 0, 1, 1, 0, 1, 0, 0, 0, 0, 1, 0, 2, 0,\n",
       "         0, 1, 0, 0, 0, 0, 0, 0, 0, 1, 0, 0, 0, 0, 0, 1, 0, 1, 2, 0, 0, 0,\n",
       "         0, 0, 0, 0, 1, 0, 0, 0, 0, 0, 0, 0, 0, 0, 0, 2, 1, 0, 0, 0, 0, 0,\n",
       "         1, 0, 1, 0, 0, 3, 0, 0, 0, 1, 0, 1, 1, 0, 0, 0, 0, 0, 0, 0, 0, 1,\n",
       "         0, 0, 0, 0, 0, 0, 0, 0]),\n",
       "  (0,\n",
       "   1): array([0, 3, 2, 0, 0, 2, 0, 0, 1, 2, 1, 0, 2, 0, 2, 1, 0, 1, 0, 1, 1, 1,\n",
       "         3, 0, 3, 0, 1, 1, 2, 0, 0, 2, 0, 0, 1, 1, 3, 4, 0, 1, 1, 4, 0, 4,\n",
       "         2, 1, 1, 0, 1, 0, 1, 0, 1, 0, 0, 0, 2, 1, 2, 0, 0, 0, 1, 4, 0, 6,\n",
       "         0, 1, 0, 1, 1, 0, 1, 1, 1, 2, 0, 0, 1, 2, 2, 2, 2, 0, 0, 2, 3, 1,\n",
       "         2, 0, 3, 1, 3, 2, 1, 1, 0, 1, 0, 5, 0, 2, 1, 1, 1, 2, 0, 0, 5, 1,\n",
       "         2, 2, 0, 2, 1, 1, 1, 1, 0, 0, 2, 2, 0, 2, 2, 3, 1, 1, 1, 1, 5, 1,\n",
       "         2, 2, 2, 1, 2, 0, 0, 1, 1, 0, 2, 2, 0, 0, 0, 2, 2, 0, 2, 2, 2, 0,\n",
       "         1, 5, 1, 1, 3, 1, 2, 2, 5, 1, 1, 2, 1, 1, 3, 0, 0, 0, 2, 1, 2, 0,\n",
       "         0, 4, 3, 5, 2, 4, 0, 1, 2, 1, 1, 0, 0, 1, 2, 3, 2, 3, 1, 1, 0, 4,\n",
       "         2, 0, 0, 3, 0, 2, 3, 2, 0, 0, 1, 3, 2, 0, 0, 2, 2, 3, 1, 0, 1, 0,\n",
       "         2, 4, 0, 1, 0, 3, 0, 2, 0, 2, 1, 0, 1, 2, 1, 2, 2, 2, 1, 1, 0, 2,\n",
       "         0, 2, 2, 2, 0, 1, 0, 1, 3, 2, 1, 3, 2, 1, 2, 3, 1, 0, 0, 0, 2, 1,\n",
       "         3, 3, 1, 0, 1, 3, 3, 1, 1, 4, 0, 1, 1, 0, 1, 0, 0, 0, 1, 4, 1, 2,\n",
       "         0, 2, 3, 1, 0, 2, 0, 0, 4, 2, 1, 3, 3, 0, 2, 1, 1, 2, 5, 4, 0, 0,\n",
       "         0, 0, 0, 2, 1, 1, 0, 1, 1, 1, 2, 1, 3, 3, 1, 1, 0, 1, 1, 0, 2, 3,\n",
       "         1, 0, 1, 0, 2, 1, 1, 2, 3, 1, 2, 1, 0, 0, 2, 4, 2, 0, 0, 2, 2, 2,\n",
       "         1, 0, 2, 3, 1, 1, 3, 1, 1, 3, 1, 2, 1, 1, 3, 3, 1, 1, 2, 3, 0, 0,\n",
       "         2, 0, 1, 1, 0, 1, 0, 0, 0, 0, 0, 1, 1, 1, 4, 2, 1, 1, 1, 3, 2, 0,\n",
       "         3, 1, 2, 0, 0, 3, 1, 4, 0, 0, 1, 0, 1, 0, 3, 0, 0, 2, 1, 1, 5, 0,\n",
       "         2, 0, 1, 0, 2, 2, 0, 3, 0, 1, 1, 1, 1, 1, 2, 0, 2, 0, 1, 3, 3, 3,\n",
       "         0, 1, 1, 0, 2, 2, 1, 1, 0, 0, 4, 0, 1, 1, 1, 0, 3, 0, 1, 0, 2, 0,\n",
       "         0, 2, 0, 0, 4, 3, 3, 1, 1, 3, 0, 2, 1, 0, 2, 1, 0, 1, 1, 0, 2, 0,\n",
       "         1, 1, 3, 2, 0, 0, 0, 0, 1, 1, 1, 0, 2, 1, 0, 0, 2, 2, 1, 3, 1, 0,\n",
       "         1, 0, 1, 3, 4, 0, 1, 2, 0, 1, 1, 1, 1, 1, 3, 1, 1, 0, 2, 1, 0, 1,\n",
       "         4, 0, 1, 2, 1, 1, 3, 2, 0, 0, 1, 0, 3, 3, 2, 2, 1, 0, 1, 0, 1, 1,\n",
       "         1, 1, 0, 1, 2, 2, 0, 1, 1, 3, 0, 2, 0, 1, 2, 0, 2, 1, 0, 2, 0, 1,\n",
       "         0, 2, 1, 1, 1, 1, 1, 0, 2, 2, 2, 0, 4, 1, 0, 2, 2, 2, 1, 1, 0, 2,\n",
       "         1, 2, 4, 0, 1, 1, 0, 0, 1, 0, 3, 0, 1, 3, 1, 3, 2, 1, 2, 1, 1, 3,\n",
       "         0, 1, 3, 2, 2, 1, 0, 0, 1, 5, 1, 2, 3, 4, 1, 2, 0, 2, 1, 1, 2, 2,\n",
       "         1, 0, 1, 0, 1, 2, 2, 3, 3, 0, 0, 2, 1, 2, 0, 0, 2, 4, 2, 0, 1, 0,\n",
       "         2, 1, 3, 2, 0, 2, 0, 1, 4, 1, 1, 2, 0, 2, 1, 0, 1, 2, 0, 2, 0, 1,\n",
       "         0, 0, 2, 0, 1, 2, 0, 1, 2, 1, 0, 2, 1, 0, 3, 0, 1, 0, 2, 1, 4, 0,\n",
       "         1, 1, 0, 2, 2, 0, 0, 2, 1, 0, 1, 3, 1, 0, 0, 0, 0, 2, 1, 0, 0, 0,\n",
       "         2, 1, 1, 1, 3, 1, 0, 1, 1, 2, 1, 2, 3, 1, 1, 0, 0, 2, 2, 1, 1, 2,\n",
       "         1, 1, 1, 0, 1, 2, 2, 1, 1, 2, 0, 1, 2, 0, 2, 0, 1, 1, 1, 0, 1, 1,\n",
       "         0, 1, 1, 1, 3, 0, 3, 1, 0, 1, 1, 0, 2, 3, 1, 3, 0, 4, 1, 2, 0, 3,\n",
       "         2, 0, 0, 4, 2, 0, 2, 0])},\n",
       " 'bins': {(1,\n",
       "   16): array([-200. , -199.5, -199. , -198.5, -198. , -197.5, -197. , -196.5,\n",
       "         -196. , -195.5, -195. , -194.5, -194. , -193.5, -193. , -192.5,\n",
       "         -192. , -191.5, -191. , -190.5, -190. , -189.5, -189. , -188.5,\n",
       "         -188. , -187.5, -187. , -186.5, -186. , -185.5, -185. , -184.5,\n",
       "         -184. , -183.5, -183. , -182.5, -182. , -181.5, -181. , -180.5,\n",
       "         -180. , -179.5, -179. , -178.5, -178. , -177.5, -177. , -176.5,\n",
       "         -176. , -175.5, -175. , -174.5, -174. , -173.5, -173. , -172.5,\n",
       "         -172. , -171.5, -171. , -170.5, -170. , -169.5, -169. , -168.5,\n",
       "         -168. , -167.5, -167. , -166.5, -166. , -165.5, -165. , -164.5,\n",
       "         -164. , -163.5, -163. , -162.5, -162. , -161.5, -161. , -160.5,\n",
       "         -160. , -159.5, -159. , -158.5, -158. , -157.5, -157. , -156.5,\n",
       "         -156. , -155.5, -155. , -154.5, -154. , -153.5, -153. , -152.5,\n",
       "         -152. , -151.5, -151. , -150.5, -150. , -149.5, -149. , -148.5,\n",
       "         -148. , -147.5, -147. , -146.5, -146. , -145.5, -145. , -144.5,\n",
       "         -144. , -143.5, -143. , -142.5, -142. , -141.5, -141. , -140.5,\n",
       "         -140. , -139.5, -139. , -138.5, -138. , -137.5, -137. , -136.5,\n",
       "         -136. , -135.5, -135. , -134.5, -134. , -133.5, -133. , -132.5,\n",
       "         -132. , -131.5, -131. , -130.5, -130. , -129.5, -129. , -128.5,\n",
       "         -128. , -127.5, -127. , -126.5, -126. , -125.5, -125. , -124.5,\n",
       "         -124. , -123.5, -123. , -122.5, -122. , -121.5, -121. , -120.5,\n",
       "         -120. , -119.5, -119. , -118.5, -118. , -117.5, -117. , -116.5,\n",
       "         -116. , -115.5, -115. , -114.5, -114. , -113.5, -113. , -112.5,\n",
       "         -112. , -111.5, -111. , -110.5, -110. , -109.5, -109. , -108.5,\n",
       "         -108. , -107.5, -107. , -106.5, -106. , -105.5, -105. , -104.5,\n",
       "         -104. , -103.5, -103. , -102.5, -102. , -101.5, -101. , -100.5,\n",
       "         -100. ,  -99.5,  -99. ,  -98.5,  -98. ,  -97.5,  -97. ,  -96.5,\n",
       "          -96. ,  -95.5,  -95. ,  -94.5,  -94. ,  -93.5,  -93. ,  -92.5,\n",
       "          -92. ,  -91.5,  -91. ,  -90.5,  -90. ,  -89.5,  -89. ,  -88.5,\n",
       "          -88. ,  -87.5,  -87. ,  -86.5,  -86. ,  -85.5,  -85. ,  -84.5,\n",
       "          -84. ,  -83.5,  -83. ,  -82.5,  -82. ,  -81.5,  -81. ,  -80.5,\n",
       "          -80. ,  -79.5,  -79. ,  -78.5,  -78. ,  -77.5,  -77. ,  -76.5,\n",
       "          -76. ,  -75.5,  -75. ,  -74.5,  -74. ,  -73.5,  -73. ,  -72.5,\n",
       "          -72. ,  -71.5,  -71. ,  -70.5,  -70. ,  -69.5,  -69. ,  -68.5,\n",
       "          -68. ,  -67.5,  -67. ,  -66.5,  -66. ,  -65.5,  -65. ,  -64.5,\n",
       "          -64. ,  -63.5,  -63. ,  -62.5,  -62. ,  -61.5,  -61. ,  -60.5,\n",
       "          -60. ,  -59.5,  -59. ,  -58.5,  -58. ,  -57.5,  -57. ,  -56.5,\n",
       "          -56. ,  -55.5,  -55. ,  -54.5,  -54. ,  -53.5,  -53. ,  -52.5,\n",
       "          -52. ,  -51.5,  -51. ,  -50.5,  -50. ,  -49.5,  -49. ,  -48.5,\n",
       "          -48. ,  -47.5,  -47. ,  -46.5,  -46. ,  -45.5,  -45. ,  -44.5,\n",
       "          -44. ,  -43.5,  -43. ,  -42.5,  -42. ,  -41.5,  -41. ,  -40.5,\n",
       "          -40. ,  -39.5,  -39. ,  -38.5,  -38. ,  -37.5,  -37. ,  -36.5,\n",
       "          -36. ,  -35.5,  -35. ,  -34.5,  -34. ,  -33.5,  -33. ,  -32.5,\n",
       "          -32. ,  -31.5,  -31. ,  -30.5,  -30. ,  -29.5,  -29. ,  -28.5,\n",
       "          -28. ,  -27.5,  -27. ,  -26.5,  -26. ,  -25.5,  -25. ,  -24.5,\n",
       "          -24. ,  -23.5,  -23. ,  -22.5,  -22. ,  -21.5,  -21. ,  -20.5,\n",
       "          -20. ,  -19.5,  -19. ,  -18.5,  -18. ,  -17.5,  -17. ,  -16.5,\n",
       "          -16. ,  -15.5,  -15. ,  -14.5,  -14. ,  -13.5,  -13. ,  -12.5,\n",
       "          -12. ,  -11.5,  -11. ,  -10.5,  -10. ,   -9.5,   -9. ,   -8.5,\n",
       "           -8. ,   -7.5,   -7. ,   -6.5,   -6. ,   -5.5,   -5. ,   -4.5,\n",
       "           -4. ,   -3.5,   -3. ,   -2.5,   -2. ,   -1.5,   -1. ,   -0.5,\n",
       "            0. ,    0.5,    1. ,    1.5,    2. ,    2.5,    3. ,    3.5,\n",
       "            4. ,    4.5,    5. ,    5.5,    6. ,    6.5,    7. ,    7.5,\n",
       "            8. ,    8.5,    9. ,    9.5,   10. ,   10.5,   11. ,   11.5,\n",
       "           12. ,   12.5,   13. ,   13.5,   14. ,   14.5,   15. ,   15.5,\n",
       "           16. ,   16.5,   17. ,   17.5,   18. ,   18.5,   19. ,   19.5,\n",
       "           20. ,   20.5,   21. ,   21.5,   22. ,   22.5,   23. ,   23.5,\n",
       "           24. ,   24.5,   25. ,   25.5,   26. ,   26.5,   27. ,   27.5,\n",
       "           28. ,   28.5,   29. ,   29.5,   30. ,   30.5,   31. ,   31.5,\n",
       "           32. ,   32.5,   33. ,   33.5,   34. ,   34.5,   35. ,   35.5,\n",
       "           36. ,   36.5,   37. ,   37.5,   38. ,   38.5,   39. ,   39.5,\n",
       "           40. ,   40.5,   41. ,   41.5,   42. ,   42.5,   43. ,   43.5,\n",
       "           44. ,   44.5,   45. ,   45.5,   46. ,   46.5,   47. ,   47.5,\n",
       "           48. ,   48.5,   49. ,   49.5,   50. ,   50.5,   51. ,   51.5,\n",
       "           52. ,   52.5,   53. ,   53.5,   54. ,   54.5,   55. ,   55.5,\n",
       "           56. ,   56.5,   57. ,   57.5,   58. ,   58.5,   59. ,   59.5,\n",
       "           60. ,   60.5,   61. ,   61.5,   62. ,   62.5,   63. ,   63.5,\n",
       "           64. ,   64.5,   65. ,   65.5,   66. ,   66.5,   67. ,   67.5,\n",
       "           68. ,   68.5,   69. ,   69.5,   70. ,   70.5,   71. ,   71.5,\n",
       "           72. ,   72.5,   73. ,   73.5,   74. ,   74.5,   75. ,   75.5,\n",
       "           76. ,   76.5,   77. ,   77.5,   78. ,   78.5,   79. ,   79.5,\n",
       "           80. ,   80.5,   81. ,   81.5,   82. ,   82.5,   83. ,   83.5,\n",
       "           84. ,   84.5,   85. ,   85.5,   86. ,   86.5,   87. ,   87.5,\n",
       "           88. ,   88.5,   89. ,   89.5,   90. ,   90.5,   91. ,   91.5,\n",
       "           92. ,   92.5,   93. ,   93.5,   94. ,   94.5,   95. ,   95.5,\n",
       "           96. ,   96.5,   97. ,   97.5,   98. ,   98.5,   99. ,   99.5,\n",
       "          100. ,  100.5,  101. ,  101.5,  102. ,  102.5,  103. ,  103.5,\n",
       "          104. ,  104.5,  105. ,  105.5,  106. ,  106.5,  107. ,  107.5,\n",
       "          108. ,  108.5,  109. ,  109.5,  110. ,  110.5,  111. ,  111.5,\n",
       "          112. ,  112.5,  113. ,  113.5,  114. ,  114.5,  115. ,  115.5,\n",
       "          116. ,  116.5,  117. ,  117.5,  118. ,  118.5,  119. ,  119.5,\n",
       "          120. ,  120.5,  121. ,  121.5,  122. ,  122.5,  123. ,  123.5,\n",
       "          124. ,  124.5,  125. ,  125.5,  126. ,  126.5,  127. ,  127.5,\n",
       "          128. ,  128.5,  129. ,  129.5,  130. ,  130.5,  131. ,  131.5,\n",
       "          132. ,  132.5,  133. ,  133.5,  134. ,  134.5,  135. ,  135.5,\n",
       "          136. ,  136.5,  137. ,  137.5,  138. ,  138.5,  139. ,  139.5,\n",
       "          140. ,  140.5,  141. ,  141.5,  142. ,  142.5,  143. ,  143.5,\n",
       "          144. ,  144.5,  145. ,  145.5,  146. ,  146.5,  147. ,  147.5,\n",
       "          148. ,  148.5,  149. ,  149.5,  150. ,  150.5,  151. ,  151.5,\n",
       "          152. ,  152.5,  153. ,  153.5,  154. ,  154.5,  155. ,  155.5,\n",
       "          156. ,  156.5,  157. ,  157.5,  158. ,  158.5,  159. ,  159.5,\n",
       "          160. ,  160.5,  161. ,  161.5,  162. ,  162.5,  163. ,  163.5,\n",
       "          164. ,  164.5,  165. ,  165.5,  166. ,  166.5,  167. ,  167.5,\n",
       "          168. ,  168.5,  169. ,  169.5,  170. ,  170.5,  171. ,  171.5,\n",
       "          172. ,  172.5,  173. ,  173.5,  174. ,  174.5,  175. ,  175.5,\n",
       "          176. ,  176.5,  177. ,  177.5,  178. ,  178.5,  179. ,  179.5,\n",
       "          180. ,  180.5,  181. ,  181.5,  182. ,  182.5,  183. ,  183.5,\n",
       "          184. ,  184.5,  185. ,  185.5,  186. ,  186.5,  187. ,  187.5,\n",
       "          188. ,  188.5,  189. ,  189.5,  190. ,  190.5,  191. ,  191.5,\n",
       "          192. ,  192.5,  193. ,  193.5,  194. ,  194.5,  195. ,  195.5,\n",
       "          196. ,  196.5,  197. ,  197.5,  198. ,  198.5,  199. ,  199.5,\n",
       "          200. ]),\n",
       "  (1,\n",
       "   5): array([-200. , -199.5, -199. , -198.5, -198. , -197.5, -197. , -196.5,\n",
       "         -196. , -195.5, -195. , -194.5, -194. , -193.5, -193. , -192.5,\n",
       "         -192. , -191.5, -191. , -190.5, -190. , -189.5, -189. , -188.5,\n",
       "         -188. , -187.5, -187. , -186.5, -186. , -185.5, -185. , -184.5,\n",
       "         -184. , -183.5, -183. , -182.5, -182. , -181.5, -181. , -180.5,\n",
       "         -180. , -179.5, -179. , -178.5, -178. , -177.5, -177. , -176.5,\n",
       "         -176. , -175.5, -175. , -174.5, -174. , -173.5, -173. , -172.5,\n",
       "         -172. , -171.5, -171. , -170.5, -170. , -169.5, -169. , -168.5,\n",
       "         -168. , -167.5, -167. , -166.5, -166. , -165.5, -165. , -164.5,\n",
       "         -164. , -163.5, -163. , -162.5, -162. , -161.5, -161. , -160.5,\n",
       "         -160. , -159.5, -159. , -158.5, -158. , -157.5, -157. , -156.5,\n",
       "         -156. , -155.5, -155. , -154.5, -154. , -153.5, -153. , -152.5,\n",
       "         -152. , -151.5, -151. , -150.5, -150. , -149.5, -149. , -148.5,\n",
       "         -148. , -147.5, -147. , -146.5, -146. , -145.5, -145. , -144.5,\n",
       "         -144. , -143.5, -143. , -142.5, -142. , -141.5, -141. , -140.5,\n",
       "         -140. , -139.5, -139. , -138.5, -138. , -137.5, -137. , -136.5,\n",
       "         -136. , -135.5, -135. , -134.5, -134. , -133.5, -133. , -132.5,\n",
       "         -132. , -131.5, -131. , -130.5, -130. , -129.5, -129. , -128.5,\n",
       "         -128. , -127.5, -127. , -126.5, -126. , -125.5, -125. , -124.5,\n",
       "         -124. , -123.5, -123. , -122.5, -122. , -121.5, -121. , -120.5,\n",
       "         -120. , -119.5, -119. , -118.5, -118. , -117.5, -117. , -116.5,\n",
       "         -116. , -115.5, -115. , -114.5, -114. , -113.5, -113. , -112.5,\n",
       "         -112. , -111.5, -111. , -110.5, -110. , -109.5, -109. , -108.5,\n",
       "         -108. , -107.5, -107. , -106.5, -106. , -105.5, -105. , -104.5,\n",
       "         -104. , -103.5, -103. , -102.5, -102. , -101.5, -101. , -100.5,\n",
       "         -100. ,  -99.5,  -99. ,  -98.5,  -98. ,  -97.5,  -97. ,  -96.5,\n",
       "          -96. ,  -95.5,  -95. ,  -94.5,  -94. ,  -93.5,  -93. ,  -92.5,\n",
       "          -92. ,  -91.5,  -91. ,  -90.5,  -90. ,  -89.5,  -89. ,  -88.5,\n",
       "          -88. ,  -87.5,  -87. ,  -86.5,  -86. ,  -85.5,  -85. ,  -84.5,\n",
       "          -84. ,  -83.5,  -83. ,  -82.5,  -82. ,  -81.5,  -81. ,  -80.5,\n",
       "          -80. ,  -79.5,  -79. ,  -78.5,  -78. ,  -77.5,  -77. ,  -76.5,\n",
       "          -76. ,  -75.5,  -75. ,  -74.5,  -74. ,  -73.5,  -73. ,  -72.5,\n",
       "          -72. ,  -71.5,  -71. ,  -70.5,  -70. ,  -69.5,  -69. ,  -68.5,\n",
       "          -68. ,  -67.5,  -67. ,  -66.5,  -66. ,  -65.5,  -65. ,  -64.5,\n",
       "          -64. ,  -63.5,  -63. ,  -62.5,  -62. ,  -61.5,  -61. ,  -60.5,\n",
       "          -60. ,  -59.5,  -59. ,  -58.5,  -58. ,  -57.5,  -57. ,  -56.5,\n",
       "          -56. ,  -55.5,  -55. ,  -54.5,  -54. ,  -53.5,  -53. ,  -52.5,\n",
       "          -52. ,  -51.5,  -51. ,  -50.5,  -50. ,  -49.5,  -49. ,  -48.5,\n",
       "          -48. ,  -47.5,  -47. ,  -46.5,  -46. ,  -45.5,  -45. ,  -44.5,\n",
       "          -44. ,  -43.5,  -43. ,  -42.5,  -42. ,  -41.5,  -41. ,  -40.5,\n",
       "          -40. ,  -39.5,  -39. ,  -38.5,  -38. ,  -37.5,  -37. ,  -36.5,\n",
       "          -36. ,  -35.5,  -35. ,  -34.5,  -34. ,  -33.5,  -33. ,  -32.5,\n",
       "          -32. ,  -31.5,  -31. ,  -30.5,  -30. ,  -29.5,  -29. ,  -28.5,\n",
       "          -28. ,  -27.5,  -27. ,  -26.5,  -26. ,  -25.5,  -25. ,  -24.5,\n",
       "          -24. ,  -23.5,  -23. ,  -22.5,  -22. ,  -21.5,  -21. ,  -20.5,\n",
       "          -20. ,  -19.5,  -19. ,  -18.5,  -18. ,  -17.5,  -17. ,  -16.5,\n",
       "          -16. ,  -15.5,  -15. ,  -14.5,  -14. ,  -13.5,  -13. ,  -12.5,\n",
       "          -12. ,  -11.5,  -11. ,  -10.5,  -10. ,   -9.5,   -9. ,   -8.5,\n",
       "           -8. ,   -7.5,   -7. ,   -6.5,   -6. ,   -5.5,   -5. ,   -4.5,\n",
       "           -4. ,   -3.5,   -3. ,   -2.5,   -2. ,   -1.5,   -1. ,   -0.5,\n",
       "            0. ,    0.5,    1. ,    1.5,    2. ,    2.5,    3. ,    3.5,\n",
       "            4. ,    4.5,    5. ,    5.5,    6. ,    6.5,    7. ,    7.5,\n",
       "            8. ,    8.5,    9. ,    9.5,   10. ,   10.5,   11. ,   11.5,\n",
       "           12. ,   12.5,   13. ,   13.5,   14. ,   14.5,   15. ,   15.5,\n",
       "           16. ,   16.5,   17. ,   17.5,   18. ,   18.5,   19. ,   19.5,\n",
       "           20. ,   20.5,   21. ,   21.5,   22. ,   22.5,   23. ,   23.5,\n",
       "           24. ,   24.5,   25. ,   25.5,   26. ,   26.5,   27. ,   27.5,\n",
       "           28. ,   28.5,   29. ,   29.5,   30. ,   30.5,   31. ,   31.5,\n",
       "           32. ,   32.5,   33. ,   33.5,   34. ,   34.5,   35. ,   35.5,\n",
       "           36. ,   36.5,   37. ,   37.5,   38. ,   38.5,   39. ,   39.5,\n",
       "           40. ,   40.5,   41. ,   41.5,   42. ,   42.5,   43. ,   43.5,\n",
       "           44. ,   44.5,   45. ,   45.5,   46. ,   46.5,   47. ,   47.5,\n",
       "           48. ,   48.5,   49. ,   49.5,   50. ,   50.5,   51. ,   51.5,\n",
       "           52. ,   52.5,   53. ,   53.5,   54. ,   54.5,   55. ,   55.5,\n",
       "           56. ,   56.5,   57. ,   57.5,   58. ,   58.5,   59. ,   59.5,\n",
       "           60. ,   60.5,   61. ,   61.5,   62. ,   62.5,   63. ,   63.5,\n",
       "           64. ,   64.5,   65. ,   65.5,   66. ,   66.5,   67. ,   67.5,\n",
       "           68. ,   68.5,   69. ,   69.5,   70. ,   70.5,   71. ,   71.5,\n",
       "           72. ,   72.5,   73. ,   73.5,   74. ,   74.5,   75. ,   75.5,\n",
       "           76. ,   76.5,   77. ,   77.5,   78. ,   78.5,   79. ,   79.5,\n",
       "           80. ,   80.5,   81. ,   81.5,   82. ,   82.5,   83. ,   83.5,\n",
       "           84. ,   84.5,   85. ,   85.5,   86. ,   86.5,   87. ,   87.5,\n",
       "           88. ,   88.5,   89. ,   89.5,   90. ,   90.5,   91. ,   91.5,\n",
       "           92. ,   92.5,   93. ,   93.5,   94. ,   94.5,   95. ,   95.5,\n",
       "           96. ,   96.5,   97. ,   97.5,   98. ,   98.5,   99. ,   99.5,\n",
       "          100. ,  100.5,  101. ,  101.5,  102. ,  102.5,  103. ,  103.5,\n",
       "          104. ,  104.5,  105. ,  105.5,  106. ,  106.5,  107. ,  107.5,\n",
       "          108. ,  108.5,  109. ,  109.5,  110. ,  110.5,  111. ,  111.5,\n",
       "          112. ,  112.5,  113. ,  113.5,  114. ,  114.5,  115. ,  115.5,\n",
       "          116. ,  116.5,  117. ,  117.5,  118. ,  118.5,  119. ,  119.5,\n",
       "          120. ,  120.5,  121. ,  121.5,  122. ,  122.5,  123. ,  123.5,\n",
       "          124. ,  124.5,  125. ,  125.5,  126. ,  126.5,  127. ,  127.5,\n",
       "          128. ,  128.5,  129. ,  129.5,  130. ,  130.5,  131. ,  131.5,\n",
       "          132. ,  132.5,  133. ,  133.5,  134. ,  134.5,  135. ,  135.5,\n",
       "          136. ,  136.5,  137. ,  137.5,  138. ,  138.5,  139. ,  139.5,\n",
       "          140. ,  140.5,  141. ,  141.5,  142. ,  142.5,  143. ,  143.5,\n",
       "          144. ,  144.5,  145. ,  145.5,  146. ,  146.5,  147. ,  147.5,\n",
       "          148. ,  148.5,  149. ,  149.5,  150. ,  150.5,  151. ,  151.5,\n",
       "          152. ,  152.5,  153. ,  153.5,  154. ,  154.5,  155. ,  155.5,\n",
       "          156. ,  156.5,  157. ,  157.5,  158. ,  158.5,  159. ,  159.5,\n",
       "          160. ,  160.5,  161. ,  161.5,  162. ,  162.5,  163. ,  163.5,\n",
       "          164. ,  164.5,  165. ,  165.5,  166. ,  166.5,  167. ,  167.5,\n",
       "          168. ,  168.5,  169. ,  169.5,  170. ,  170.5,  171. ,  171.5,\n",
       "          172. ,  172.5,  173. ,  173.5,  174. ,  174.5,  175. ,  175.5,\n",
       "          176. ,  176.5,  177. ,  177.5,  178. ,  178.5,  179. ,  179.5,\n",
       "          180. ,  180.5,  181. ,  181.5,  182. ,  182.5,  183. ,  183.5,\n",
       "          184. ,  184.5,  185. ,  185.5,  186. ,  186.5,  187. ,  187.5,\n",
       "          188. ,  188.5,  189. ,  189.5,  190. ,  190.5,  191. ,  191.5,\n",
       "          192. ,  192.5,  193. ,  193.5,  194. ,  194.5,  195. ,  195.5,\n",
       "          196. ,  196.5,  197. ,  197.5,  198. ,  198.5,  199. ,  199.5,\n",
       "          200. ]),\n",
       "  (0,\n",
       "   1): array([-200. , -199.5, -199. , -198.5, -198. , -197.5, -197. , -196.5,\n",
       "         -196. , -195.5, -195. , -194.5, -194. , -193.5, -193. , -192.5,\n",
       "         -192. , -191.5, -191. , -190.5, -190. , -189.5, -189. , -188.5,\n",
       "         -188. , -187.5, -187. , -186.5, -186. , -185.5, -185. , -184.5,\n",
       "         -184. , -183.5, -183. , -182.5, -182. , -181.5, -181. , -180.5,\n",
       "         -180. , -179.5, -179. , -178.5, -178. , -177.5, -177. , -176.5,\n",
       "         -176. , -175.5, -175. , -174.5, -174. , -173.5, -173. , -172.5,\n",
       "         -172. , -171.5, -171. , -170.5, -170. , -169.5, -169. , -168.5,\n",
       "         -168. , -167.5, -167. , -166.5, -166. , -165.5, -165. , -164.5,\n",
       "         -164. , -163.5, -163. , -162.5, -162. , -161.5, -161. , -160.5,\n",
       "         -160. , -159.5, -159. , -158.5, -158. , -157.5, -157. , -156.5,\n",
       "         -156. , -155.5, -155. , -154.5, -154. , -153.5, -153. , -152.5,\n",
       "         -152. , -151.5, -151. , -150.5, -150. , -149.5, -149. , -148.5,\n",
       "         -148. , -147.5, -147. , -146.5, -146. , -145.5, -145. , -144.5,\n",
       "         -144. , -143.5, -143. , -142.5, -142. , -141.5, -141. , -140.5,\n",
       "         -140. , -139.5, -139. , -138.5, -138. , -137.5, -137. , -136.5,\n",
       "         -136. , -135.5, -135. , -134.5, -134. , -133.5, -133. , -132.5,\n",
       "         -132. , -131.5, -131. , -130.5, -130. , -129.5, -129. , -128.5,\n",
       "         -128. , -127.5, -127. , -126.5, -126. , -125.5, -125. , -124.5,\n",
       "         -124. , -123.5, -123. , -122.5, -122. , -121.5, -121. , -120.5,\n",
       "         -120. , -119.5, -119. , -118.5, -118. , -117.5, -117. , -116.5,\n",
       "         -116. , -115.5, -115. , -114.5, -114. , -113.5, -113. , -112.5,\n",
       "         -112. , -111.5, -111. , -110.5, -110. , -109.5, -109. , -108.5,\n",
       "         -108. , -107.5, -107. , -106.5, -106. , -105.5, -105. , -104.5,\n",
       "         -104. , -103.5, -103. , -102.5, -102. , -101.5, -101. , -100.5,\n",
       "         -100. ,  -99.5,  -99. ,  -98.5,  -98. ,  -97.5,  -97. ,  -96.5,\n",
       "          -96. ,  -95.5,  -95. ,  -94.5,  -94. ,  -93.5,  -93. ,  -92.5,\n",
       "          -92. ,  -91.5,  -91. ,  -90.5,  -90. ,  -89.5,  -89. ,  -88.5,\n",
       "          -88. ,  -87.5,  -87. ,  -86.5,  -86. ,  -85.5,  -85. ,  -84.5,\n",
       "          -84. ,  -83.5,  -83. ,  -82.5,  -82. ,  -81.5,  -81. ,  -80.5,\n",
       "          -80. ,  -79.5,  -79. ,  -78.5,  -78. ,  -77.5,  -77. ,  -76.5,\n",
       "          -76. ,  -75.5,  -75. ,  -74.5,  -74. ,  -73.5,  -73. ,  -72.5,\n",
       "          -72. ,  -71.5,  -71. ,  -70.5,  -70. ,  -69.5,  -69. ,  -68.5,\n",
       "          -68. ,  -67.5,  -67. ,  -66.5,  -66. ,  -65.5,  -65. ,  -64.5,\n",
       "          -64. ,  -63.5,  -63. ,  -62.5,  -62. ,  -61.5,  -61. ,  -60.5,\n",
       "          -60. ,  -59.5,  -59. ,  -58.5,  -58. ,  -57.5,  -57. ,  -56.5,\n",
       "          -56. ,  -55.5,  -55. ,  -54.5,  -54. ,  -53.5,  -53. ,  -52.5,\n",
       "          -52. ,  -51.5,  -51. ,  -50.5,  -50. ,  -49.5,  -49. ,  -48.5,\n",
       "          -48. ,  -47.5,  -47. ,  -46.5,  -46. ,  -45.5,  -45. ,  -44.5,\n",
       "          -44. ,  -43.5,  -43. ,  -42.5,  -42. ,  -41.5,  -41. ,  -40.5,\n",
       "          -40. ,  -39.5,  -39. ,  -38.5,  -38. ,  -37.5,  -37. ,  -36.5,\n",
       "          -36. ,  -35.5,  -35. ,  -34.5,  -34. ,  -33.5,  -33. ,  -32.5,\n",
       "          -32. ,  -31.5,  -31. ,  -30.5,  -30. ,  -29.5,  -29. ,  -28.5,\n",
       "          -28. ,  -27.5,  -27. ,  -26.5,  -26. ,  -25.5,  -25. ,  -24.5,\n",
       "          -24. ,  -23.5,  -23. ,  -22.5,  -22. ,  -21.5,  -21. ,  -20.5,\n",
       "          -20. ,  -19.5,  -19. ,  -18.5,  -18. ,  -17.5,  -17. ,  -16.5,\n",
       "          -16. ,  -15.5,  -15. ,  -14.5,  -14. ,  -13.5,  -13. ,  -12.5,\n",
       "          -12. ,  -11.5,  -11. ,  -10.5,  -10. ,   -9.5,   -9. ,   -8.5,\n",
       "           -8. ,   -7.5,   -7. ,   -6.5,   -6. ,   -5.5,   -5. ,   -4.5,\n",
       "           -4. ,   -3.5,   -3. ,   -2.5,   -2. ,   -1.5,   -1. ,   -0.5,\n",
       "            0. ,    0.5,    1. ,    1.5,    2. ,    2.5,    3. ,    3.5,\n",
       "            4. ,    4.5,    5. ,    5.5,    6. ,    6.5,    7. ,    7.5,\n",
       "            8. ,    8.5,    9. ,    9.5,   10. ,   10.5,   11. ,   11.5,\n",
       "           12. ,   12.5,   13. ,   13.5,   14. ,   14.5,   15. ,   15.5,\n",
       "           16. ,   16.5,   17. ,   17.5,   18. ,   18.5,   19. ,   19.5,\n",
       "           20. ,   20.5,   21. ,   21.5,   22. ,   22.5,   23. ,   23.5,\n",
       "           24. ,   24.5,   25. ,   25.5,   26. ,   26.5,   27. ,   27.5,\n",
       "           28. ,   28.5,   29. ,   29.5,   30. ,   30.5,   31. ,   31.5,\n",
       "           32. ,   32.5,   33. ,   33.5,   34. ,   34.5,   35. ,   35.5,\n",
       "           36. ,   36.5,   37. ,   37.5,   38. ,   38.5,   39. ,   39.5,\n",
       "           40. ,   40.5,   41. ,   41.5,   42. ,   42.5,   43. ,   43.5,\n",
       "           44. ,   44.5,   45. ,   45.5,   46. ,   46.5,   47. ,   47.5,\n",
       "           48. ,   48.5,   49. ,   49.5,   50. ,   50.5,   51. ,   51.5,\n",
       "           52. ,   52.5,   53. ,   53.5,   54. ,   54.5,   55. ,   55.5,\n",
       "           56. ,   56.5,   57. ,   57.5,   58. ,   58.5,   59. ,   59.5,\n",
       "           60. ,   60.5,   61. ,   61.5,   62. ,   62.5,   63. ,   63.5,\n",
       "           64. ,   64.5,   65. ,   65.5,   66. ,   66.5,   67. ,   67.5,\n",
       "           68. ,   68.5,   69. ,   69.5,   70. ,   70.5,   71. ,   71.5,\n",
       "           72. ,   72.5,   73. ,   73.5,   74. ,   74.5,   75. ,   75.5,\n",
       "           76. ,   76.5,   77. ,   77.5,   78. ,   78.5,   79. ,   79.5,\n",
       "           80. ,   80.5,   81. ,   81.5,   82. ,   82.5,   83. ,   83.5,\n",
       "           84. ,   84.5,   85. ,   85.5,   86. ,   86.5,   87. ,   87.5,\n",
       "           88. ,   88.5,   89. ,   89.5,   90. ,   90.5,   91. ,   91.5,\n",
       "           92. ,   92.5,   93. ,   93.5,   94. ,   94.5,   95. ,   95.5,\n",
       "           96. ,   96.5,   97. ,   97.5,   98. ,   98.5,   99. ,   99.5,\n",
       "          100. ,  100.5,  101. ,  101.5,  102. ,  102.5,  103. ,  103.5,\n",
       "          104. ,  104.5,  105. ,  105.5,  106. ,  106.5,  107. ,  107.5,\n",
       "          108. ,  108.5,  109. ,  109.5,  110. ,  110.5,  111. ,  111.5,\n",
       "          112. ,  112.5,  113. ,  113.5,  114. ,  114.5,  115. ,  115.5,\n",
       "          116. ,  116.5,  117. ,  117.5,  118. ,  118.5,  119. ,  119.5,\n",
       "          120. ,  120.5,  121. ,  121.5,  122. ,  122.5,  123. ,  123.5,\n",
       "          124. ,  124.5,  125. ,  125.5,  126. ,  126.5,  127. ,  127.5,\n",
       "          128. ,  128.5,  129. ,  129.5,  130. ,  130.5,  131. ,  131.5,\n",
       "          132. ,  132.5,  133. ,  133.5,  134. ,  134.5,  135. ,  135.5,\n",
       "          136. ,  136.5,  137. ,  137.5,  138. ,  138.5,  139. ,  139.5,\n",
       "          140. ,  140.5,  141. ,  141.5,  142. ,  142.5,  143. ,  143.5,\n",
       "          144. ,  144.5,  145. ,  145.5,  146. ,  146.5,  147. ,  147.5,\n",
       "          148. ,  148.5,  149. ,  149.5,  150. ,  150.5,  151. ,  151.5,\n",
       "          152. ,  152.5,  153. ,  153.5,  154. ,  154.5,  155. ,  155.5,\n",
       "          156. ,  156.5,  157. ,  157.5,  158. ,  158.5,  159. ,  159.5,\n",
       "          160. ,  160.5,  161. ,  161.5,  162. ,  162.5,  163. ,  163.5,\n",
       "          164. ,  164.5,  165. ,  165.5,  166. ,  166.5,  167. ,  167.5,\n",
       "          168. ,  168.5,  169. ,  169.5,  170. ,  170.5,  171. ,  171.5,\n",
       "          172. ,  172.5,  173. ,  173.5,  174. ,  174.5,  175. ,  175.5,\n",
       "          176. ,  176.5,  177. ,  177.5,  178. ,  178.5,  179. ,  179.5,\n",
       "          180. ,  180.5,  181. ,  181.5,  182. ,  182.5,  183. ,  183.5,\n",
       "          184. ,  184.5,  185. ,  185.5,  186. ,  186.5,  187. ,  187.5,\n",
       "          188. ,  188.5,  189. ,  189.5,  190. ,  190.5,  191. ,  191.5,\n",
       "          192. ,  192.5,  193. ,  193.5,  194. ,  194.5,  195. ,  195.5,\n",
       "          196. ,  196.5,  197. ,  197.5,  198. ,  198.5,  199. ,  199.5,\n",
       "          200. ])}}"
      ]
     },
     "execution_count": 12,
     "metadata": {},
     "output_type": "execute_result"
    }
   ],
   "source": [
    "correlogram_data = snc.return_crosscorrelogram_data(spike_pairs=spike_pairs)\n",
    "correlogram_data"
   ]
  },
  {
   "cell_type": "markdown",
   "metadata": {},
   "source": [
    "Check the bin settings using for correlogram generations."
   ]
  },
  {
   "cell_type": "code",
   "execution_count": 13,
   "metadata": {},
   "outputs": [
    {
     "data": {
      "text/plain": [
       "'Bin size: 0.5 ms, Max lag: 200 ms'"
      ]
     },
     "execution_count": 13,
     "metadata": {},
     "output_type": "execute_result"
    }
   ],
   "source": [
    "snc.report_correlogram_settings()"
   ]
  },
  {
   "cell_type": "markdown",
   "metadata": {},
   "source": [
    "## Compute monosynaptic connections \n",
    "----\n",
    "\n",
    "Compute excitatory and inhibitory monosynaptic connections between spike trains. \n",
    "\n",
    "This analysis was based on the following reference by Najafi et al., [here](https://www.sciencedirect.com/science/article/pii/S0896627319308487)."
   ]
  },
  {
   "cell_type": "markdown",
   "metadata": {},
   "source": [
    "Compute synaptic strength for set paris of neuron IDs.\n",
    "\n",
    "Note, this adds an instance to the class which is used for further processing."
   ]
  },
  {
   "cell_type": "code",
   "execution_count": 14,
   "metadata": {},
   "outputs": [],
   "source": [
    "synaptic_strength_data = snc.synaptic_strength(spike_pairs=spike_pairs, num_iterations=1000, jitter_range_ms=10)"
   ]
  },
  {
   "cell_type": "markdown",
   "metadata": {},
   "source": [
    "Inspect the output synaptic strength data.\n",
    "\n",
    "Note that the output contains the following keys: \n",
    "1. ccg bins\n",
    "2. ccg counts (from original spike trains)\n",
    "3. ccg counts (post jitter)\n",
    "4. synaptic strength\n",
    "5. high confidence interval (99%)\n",
    "6. low confidence interval (1%)"
   ]
  },
  {
   "cell_type": "markdown",
   "metadata": {},
   "source": [
    "Check the synaptic strength data for a select pair."
   ]
  },
  {
   "cell_type": "code",
   "execution_count": 15,
   "metadata": {},
   "outputs": [
    {
     "data": {
      "text/plain": [
       "'Bin size: 0.5 ms, Max lag: 200 ms'"
      ]
     },
     "execution_count": 15,
     "metadata": {},
     "output_type": "execute_result"
    }
   ],
   "source": [
    "snc.report_correlogram_settings()"
   ]
  },
  {
   "cell_type": "code",
   "execution_count": 16,
   "metadata": {},
   "outputs": [
    {
     "data": {
      "text/plain": [
       "<BarContainer object of 100 artists>"
      ]
     },
     "execution_count": 16,
     "metadata": {},
     "output_type": "execute_result"
    },
    {
     "data": {
      "image/png": "[encoded data removed]",
      "text/plain": [
       "<Figure size 576x384 with 1 Axes>"
      ]
     },
     "metadata": {},
     "output_type": "display_data"
    }
   ],
   "source": [
    "ccg_bins = snc.pair_synaptic_strength[(1,16)]['ccg_bins']\n",
    "ccg_data = snc.pair_synaptic_strength[(1,16)]['original_ccg_counts']\n",
    "\n",
    "# plot\n",
    "plt.figure(figsize=(6, 4))\n",
    "plt.bar(ccg_bins[1:], ccg_data, width=0.5, color='blue')"
   ]
  },
  {
   "cell_type": "code",
   "execution_count": 17,
   "metadata": {},
   "outputs": [
    {
     "data": {
      "text/plain": [
       "{'ccg_bins': array([-25. , -24.5, -24. , -23.5, -23. , -22.5, -22. , -21.5, -21. ,\n",
       "        -20.5, -20. , -19.5, -19. , -18.5, -18. , -17.5, -17. , -16.5,\n",
       "        -16. , -15.5, -15. , -14.5, -14. , -13.5, -13. , -12.5, -12. ,\n",
       "        -11.5, -11. , -10.5, -10. ,  -9.5,  -9. ,  -8.5,  -8. ,  -7.5,\n",
       "         -7. ,  -6.5,  -6. ,  -5.5,  -5. ,  -4.5,  -4. ,  -3.5,  -3. ,\n",
       "         -2.5,  -2. ,  -1.5,  -1. ,  -0.5,   0. ,   0.5,   1. ,   1.5,\n",
       "          2. ,   2.5,   3. ,   3.5,   4. ,   4.5,   5. ,   5.5,   6. ,\n",
       "          6.5,   7. ,   7.5,   8. ,   8.5,   9. ,   9.5,  10. ,  10.5,\n",
       "         11. ,  11.5,  12. ,  12.5,  13. ,  13.5,  14. ,  14.5,  15. ,\n",
       "         15.5,  16. ,  16.5,  17. ,  17.5,  18. ,  18.5,  19. ,  19.5,\n",
       "         20. ,  20.5,  21. ,  21.5,  22. ,  22.5,  23. ,  23.5,  24. ,\n",
       "         24.5,  25. ]),\n",
       " 'original_ccg_counts': array([2, 3, 1, 2, 0, 1, 0, 1, 0, 0, 0, 1, 0, 1, 0, 1, 0, 1, 2, 0, 0, 2,\n",
       "        0, 2, 0, 3, 0, 0, 0, 0, 1, 1, 1, 0, 0, 2, 1, 2, 2, 1, 0, 2, 1, 1,\n",
       "        0, 0, 0, 1, 1, 1, 0, 1, 0, 2, 0, 1, 2, 2, 1, 0, 1, 0, 1, 0, 1, 0,\n",
       "        0, 0, 1, 1, 1, 0, 2, 0, 0, 1, 0, 1, 1, 3, 0, 0, 0, 2, 0, 0, 1, 1,\n",
       "        1, 1, 1, 0, 0, 0, 1, 0, 1, 2, 0, 1]),\n",
       " 'jittered_ccg_counts': array([[2, 0, 0, ..., 0, 1, 2],\n",
       "        [1, 1, 3, ..., 1, 0, 0],\n",
       "        [0, 1, 2, ..., 2, 0, 0],\n",
       "        ...,\n",
       "        [0, 1, 0, ..., 1, 1, 0],\n",
       "        [0, 1, 0, ..., 0, 0, 0],\n",
       "        [1, 0, 0, ..., 0, 0, 0]]),\n",
       " 'synaptic_strength': np.float64(1.373044898793238),\n",
       " 'high_ci': array([3.  , 4.  , 4.  , 3.01, 3.  , 4.  , 3.  , 3.  , 3.  , 3.  , 3.  ,\n",
       "        4.  , 3.  , 3.01, 3.  , 3.  , 3.01, 3.  , 3.  , 3.  , 3.  ]),\n",
       " 'low_ci': array([0., 0., 0., 0., 0., 0., 0., 0., 0., 0., 0., 0., 0., 0., 0., 0., 0.,\n",
       "        0., 0., 0., 0.])}"
      ]
     },
     "execution_count": 17,
     "metadata": {},
     "output_type": "execute_result"
    }
   ],
   "source": [
    "synaptic_strength_data[spike_pairs[0]]"
   ]
  },
  {
   "cell_type": "markdown",
   "metadata": {},
   "source": [
    "**Next, check the connection type.** \n",
    "\n",
    "Here, we can perform a putative detection using the z-score (synaptic strength) output.\n",
    "\n",
    "Thresholds should be set as > 5 for excitatory-connections, or inhibitory connections as < -5 based on the reference protocol."
   ]
  },
  {
   "cell_type": "code",
   "execution_count": 18,
   "metadata": {},
   "outputs": [
    {
     "data": {
      "text/html": [
       "<div>\n",
       "<style scoped>\n",
       "    .dataframe tbody tr th:only-of-type {\n",
       "        vertical-align: middle;\n",
       "    }\n",
       "\n",
       "    .dataframe tbody tr th {\n",
       "        vertical-align: top;\n",
       "    }\n",
       "\n",
       "    .dataframe thead th {\n",
       "        text-align: right;\n",
       "    }\n",
       "</style>\n",
       "<table border=\"1\" class=\"dataframe\">\n",
       "  <thead>\n",
       "    <tr style=\"text-align: right;\">\n",
       "      <th></th>\n",
       "      <th>Neuron Pair</th>\n",
       "      <th>Monosynaptic Connection Type</th>\n",
       "    </tr>\n",
       "  </thead>\n",
       "  <tbody>\n",
       "    <tr>\n",
       "      <th>0</th>\n",
       "      <td>(1, 16)</td>\n",
       "      <td>undefined</td>\n",
       "    </tr>\n",
       "    <tr>\n",
       "      <th>1</th>\n",
       "      <td>(1, 5)</td>\n",
       "      <td>undefined</td>\n",
       "    </tr>\n",
       "    <tr>\n",
       "      <th>2</th>\n",
       "      <td>(0, 1)</td>\n",
       "      <td>undefined</td>\n",
       "    </tr>\n",
       "  </tbody>\n",
       "</table>\n",
       "</div>"
      ],
      "text/plain": [
       "  Neuron Pair Monosynaptic Connection Type\n",
       "0     (1, 16)                    undefined\n",
       "1      (1, 5)                    undefined\n",
       "2      (0, 1)                    undefined"
      ]
     },
     "execution_count": 18,
     "metadata": {},
     "output_type": "execute_result"
    }
   ],
   "source": [
    "connection_types = snc.monosynaptic_connection_types(threshold = 5)\n",
    "\n",
    "# excitatory monosynaptic connections\n",
    "df = pd.DataFrame(list(connection_types.items()), columns=[\"Neuron Pair\", \"Monosynaptic Connection Type\"])\n",
    "df"
   ]
  },
  {
   "cell_type": "markdown",
   "metadata": {},
   "source": [
    "Check the ACG quality."
   ]
  },
  {
   "cell_type": "code",
   "execution_count": 3,
   "metadata": {},
   "outputs": [],
   "source": [
    "def compute_isi_violations(spike_train_ms, recording_length_ms, isi_threshold_ms=1.5, min_isi_ms=0):\n",
    "    \"\"\"Compute the number of interspike interval (ISI) violations in a spike train.\n",
    "\n",
    "    \"\"\"\n",
    "    \n",
    "    isi_violations = {'isi_violations_ratio': np.nan, 'isi_violations_rate': np.nan,\n",
    "                      'isi_violations_count': np.nan, 'isi_violation_of_total_spikes': np.nan}\n",
    "    \n",
    "    isi_threshold_s = isi_threshold_ms / 1000\n",
    "    min_isi_s = min_isi_ms / 1000\n",
    "    recording_length_s = recording_length_ms / 1000\n",
    "    \n",
    "    isi_violations_count = {}\n",
    "    isi_violations_ratio = {}\n",
    "    \n",
    "    # convert spike train to seconds\n",
    "    if len(spike_train_ms) > 0:\n",
    "        spike_train_s = spike_train_ms / 1000\n",
    "    else:\n",
    "        # if no spikes in the spike train, return nan\n",
    "        return isi_violations\n",
    "    \n",
    "    isis = np.diff(spike_train_s)\n",
    "    num_spikes = len(spike_train_s)\n",
    "    num_violations = np.sum(isis < isi_threshold_s)\n",
    "    \n",
    "    violation_time = 2 * num_spikes * (isi_threshold_s - min_isi_s)\n",
    "    \n",
    "    if num_spikes > 0:\n",
    "        total_rate = num_spikes / recording_length_s\n",
    "        violation_rate = num_violations / violation_time\n",
    "        isi_violations_ratio = violation_rate / total_rate\n",
    "        isi_violations_rate = num_violations / recording_length_s\n",
    "        isi_violations_count = num_violations\n",
    "        isi_violation_of_total = num_violations / num_spikes\n",
    "        \n",
    "    isi_violations['isi_violations_ratio'] = isi_violations_ratio\n",
    "    isi_violations['isi_violations_rate'] = isi_violations_rate\n",
    "    isi_violations['isi_violations_count'] = isi_violations_count\n",
    "    isi_violations['isi_violation_of_total_spikes'] = isi_violation_of_total\n",
    "    \n",
    "    return isi_violations\n",
    "\n",
    "\n",
    "# build in warnings for these to improve the quality.\n",
    "# write clear documentation for these processes\n",
    "# need to cross-check the output with that from SI to also ensure these are correct"
   ]
  },
  {
   "cell_type": "code",
   "execution_count": 38,
   "metadata": {},
   "outputs": [
    {
     "data": {
      "text/plain": [
       "{'isi_violations_ratio': np.float64(0.0),\n",
       " 'isi_violations_rate': np.float64(0.0),\n",
       " 'isi_violations_count': np.int64(0),\n",
       " 'isi_violation_of_total_spikes': np.float64(0.0)}"
      ]
     },
     "execution_count": 38,
     "metadata": {},
     "output_type": "execute_result"
    }
   ],
   "source": [
    "isi_violations = compute_isi_violations(spike_train_ms=all_units[16], recording_length_ms=600*1000)\n",
    "isi_violations"
   ]
  },
  {
   "cell_type": "code",
   "execution_count": 1,
   "metadata": {},
   "outputs": [],
   "source": [
    "# from collections import namedtuple\n",
    "\n",
    "# # Define a named tuple type called 'Point' with fields 'x' and 'y'\n",
    "# res = namedtuple(\"isi_violation\", [\"isi_violations_ratio\", \"isi_violations_count\"])  # these are immutable!!!! \n",
    "\n",
    "# p = res(isi_violations_ratio=0.5, isi_violations_count=5)\n",
    "# p"
   ]
  },
  {
   "cell_type": "markdown",
   "metadata": {},
   "source": [
    "Output a features dataframe containing selected spike pairs."
   ]
  },
  {
   "cell_type": "code",
   "execution_count": null,
   "metadata": {},
   "outputs": [],
   "source": []
  },
  {
   "cell_type": "code",
   "execution_count": null,
   "metadata": {},
   "outputs": [],
   "source": []
  },
  {
   "cell_type": "markdown",
   "metadata": {},
   "source": [
    "Plot the CCGs for all pairs, and label their monosynaptic connections.\n",
    "\n",
    "Here, this can be done quickly using groupped feature modules."
   ]
  },
  {
   "cell_type": "code",
   "execution_count": null,
   "metadata": {},
   "outputs": [],
   "source": []
  },
  {
   "cell_type": "code",
   "execution_count": null,
   "metadata": {},
   "outputs": [],
   "source": []
  },
  {
   "cell_type": "markdown",
   "metadata": {},
   "source": [
    "## Validate connection type using waveform classifications\n",
    "-----\n",
    "\n",
    "Connection types are putatively based on CCG profiles. However, they should be cross-validated with waveform shapes and/or properties.\n",
    "\n",
    "For example, an excitatory neuron synapsed to a inhibitory interneuron, or two excitatory neurons are most likely to confer a excitatory-excitatory connection type. \n",
    "\n",
    "In such cases, neuron types can be postulated based on the waveforms alone, or additional firing properties, or even ACG profiles. "
   ]
  },
  {
   "cell_type": "code",
   "execution_count": null,
   "metadata": {},
   "outputs": [],
   "source": []
  },
  {
   "cell_type": "code",
   "execution_count": null,
   "metadata": {},
   "outputs": [],
   "source": []
  },
  {
   "cell_type": "code",
   "execution_count": null,
   "metadata": {},
   "outputs": [],
   "source": []
  },
  {
   "cell_type": "markdown",
   "metadata": {},
   "source": [
    "## Cross-check electrode distances\n",
    "-----"
   ]
  },
  {
   "cell_type": "code",
   "execution_count": null,
   "metadata": {},
   "outputs": [],
   "source": []
  },
  {
   "cell_type": "code",
   "execution_count": null,
   "metadata": {},
   "outputs": [],
   "source": []
  },
  {
   "cell_type": "code",
   "execution_count": null,
   "metadata": {},
   "outputs": [],
   "source": []
  },
  {
   "cell_type": "code",
   "execution_count": null,
   "metadata": {},
   "outputs": [],
   "source": []
  },
  {
   "cell_type": "code",
   "execution_count": null,
   "metadata": {},
   "outputs": [],
   "source": []
  },
  {
   "cell_type": "markdown",
   "metadata": {},
   "source": [
    "## TO DO:\n",
    "-----"
   ]
  },
  {
   "cell_type": "markdown",
   "metadata": {},
   "source": [
    "- Can you integrate it to map the connections between cells?\n",
    "\n",
    "- Make a JSON output --> export module for the dataset! This will be then easier to load --> make another option to batch-process and visualize multiple datasets etc. etc.\n",
    "\n",
    "- Build in options for plotting using the synaptic strength calculations.\n",
    "\n",
    "- Make an option to improve the CCG accuracy by checking firing rates etc. etc. etc.\n",
    "\n",
    "- Any point having multiple plotting options here?\n",
    "\n",
    "- Plot all the data out\n",
    "\n",
    "- Make an option to add new data -- therefore clearing the previous data here\n",
    "\n",
    "- Check this analysis with a DANDI dataset\n",
    "\n",
    "- Make a simulation model for ccgs and times etc. etc. to test these parameters\n",
    "\n",
    "- Return ACG data\n",
    "\n",
    "- Test units\n",
    "\n",
    "- Style is not being fitted globally --> the decorator is useless?\n",
    "\n",
    "- Document all the steps in place to check this all out ...\n",
    "\n",
    "- Option to improve the labels here for the units? Check it with different input types\n",
    "\n",
    "- Build a core object which allows for batch-processing, but also adds in the srates etc. of the recordings\n",
    "\n",
    "- Option to cross-check with the distances???\n",
    "\n",
    "- Option to change individual colors for CCGs?\n",
    "\n",
    "- Merge the CCG and ACG decorators into one?\n",
    "\n",
    "- For autocorrelograms:\n",
    "    - ensure that the input is a list type \n",
    "    - add a function to check the lags and the bins for this etc.\n",
    "    - check whether unit ids can be in str format etc.\n",
    "\n",
    "- Plot_ccg is computing and then plotssing --> should be separate?\n",
    "\n",
    "- Analysis for CCG and ACG should be separated?\n",
    "\n",
    "- Check the CCG binning --> test this!\n",
    "\n",
    "- Check the type hinting / remove these?"
   ]
  },
  {
   "cell_type": "markdown",
   "metadata": {},
   "source": []
  }
 ],
 "metadata": {
  "kernelspec": {
   "display_name": ".venv",
   "language": "python",
   "name": "python3"
  },
  "language_info": {
   "codemirror_mode": {
    "name": "ipython",
    "version": 3
   },
   "file_extension": ".py",
   "mimetype": "text/x-python",
   "name": "python",
   "nbconvert_exporter": "python",
   "pygments_lexer": "ipython3",
   "version": "3.10.1"
  },
  "orig_nbformat": 4
 },
 "nbformat": 4,
 "nbformat_minor": 2
}
